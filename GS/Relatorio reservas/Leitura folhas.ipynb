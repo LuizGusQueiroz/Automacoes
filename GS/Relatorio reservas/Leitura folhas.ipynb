{
 "cells": [
  {
   "cell_type": "markdown",
   "source": [
    "# Configuração do Ambiente"
   ],
   "metadata": {
    "collapsed": false
   },
   "id": "e3bbdc4eb04871b3"
  },
  {
   "cell_type": "code",
   "execution_count": 1,
   "id": "initial_id",
   "metadata": {
    "collapsed": true,
    "ExecuteTime": {
     "end_time": "2024-04-16T17:16:27.341624Z",
     "start_time": "2024-04-16T17:16:24.529084Z"
    }
   },
   "outputs": [],
   "source": [
    "import pandas as pd\n",
    "import os\n",
    "from html import unescape # Ajsuta formatações HTML\n",
    "from re import sub # Remove subpadrões\n",
    "try:\n",
    "  from unidecode import unidecode # Remove acentos\n",
    "except ModuleNotFoundError:\n",
    "  !pip install unidecode\n",
    "  from unidecode import unidecode"
   ]
  },
  {
   "cell_type": "markdown",
   "source": [
    "# FORTES"
   ],
   "metadata": {
    "collapsed": false
   },
   "id": "2023d57a22d12210"
  },
  {
   "cell_type": "code",
   "outputs": [],
   "source": [
    "def clean_html(path: str) -> list[str]:\n",
    "  \"\"\"\n",
    "  Lê um arquivo HTMl, remove todas as linhas que não tenham 'class'\n",
    "  e remove todas as tags.\n",
    "\n",
    "  Parâmetros:\n",
    "  path: O caminho para o arquivo HTML a ser processado.\n",
    "\n",
    "  Retorna uma lista de strings, sendo cada item uma linha do arquivo HTML.\n",
    "  \"\"\"\n",
    "  # Lê o arquivo html e o separa por linhas\n",
    "  with open(path, 'r') as file:\n",
    "    arq = file.read()\n",
    "  arq = arq.split('\\n')\n",
    "\n",
    "  # Filtra apenas as linhas que contenham 'class'\n",
    "  # Para cada linha, ajusta a formatação HTML (unescape) e remove acentos (unidecode)\n",
    "  arq = [unidecode(unescape(linha)) for linha in arq if 'class' in linha]\n",
    "  # Remove as tags\n",
    "  for i, row in enumerate(arq):\n",
    "      pattern = r'<[^>]*>'\n",
    "      new_row = sub(pattern, '', row)\n",
    "      arq[i] = new_row\n",
    "\n",
    "  return arq"
   ],
   "metadata": {
    "collapsed": false,
    "ExecuteTime": {
     "end_time": "2024-04-16T17:16:38.577858Z",
     "start_time": "2024-04-16T17:16:38.566530Z"
    }
   },
   "id": "d9225214da4c2f2c",
   "execution_count": 2
  },
  {
   "cell_type": "code",
   "outputs": [],
   "source": [
    "def FORTES(path: str) -> pd.DataFrame:\n",
    "\n",
    "  # Tabela onde todos os dados serão guardados\n",
    "  registros = pd.DataFrame(\n",
    "      columns = ['DATA_FOLHA',\t'EMPRESA',\t'CNPJ', 'CODIGO_EMPREGADO',\t\n",
    "                 'NOME_EMPREGADO',\t'CARGO',\t'ADMISSAO',\t'LOTACAO', 'CODIGO_EVENTO',\n",
    "                 'NOME_EVENTO',\t'TIPO',\t'VALOR',\t'CODIGO_EMPREGADO_FORM'])\n",
    "  # Leitura do arquivo HTML\n",
    "  arq = clean_html(path)\n",
    "\n",
    "  # Lê alguns dados que são únicos para todo o arquivo\n",
    "  competencia = arq[6]\n",
    "  # Guarda apenas os números do CNPJ\n",
    "  cnpj = ''.join([i for i in arq[8] if i.isnumeric()])\n",
    "  empregador = arq[10]\n",
    "\n",
    "  # O total de empregador na folha pode ser contado pela palavra chave 'Admissao',\n",
    "  # que aparece no topo de cada contracheque\n",
    "  tot_emp = arq.count('Admissao')\n",
    "\n",
    "  start = 0\n",
    "  for _ in range(tot_emp):\n",
    "\n",
    "    # Encontra os dados do próximo empregado\n",
    "    for i, row in enumerate(arq[start:], start=start):\n",
    "      if row == 'Admissao':\n",
    "        start = i + 1\n",
    "        break\n",
    "    # Acessa os dados do empregado pela posição das linhas\n",
    "    admissao = arq[i+1]\n",
    "    lotacao = arq[i+3]\n",
    "    cargo = arq[i+5]\n",
    "    \"\"\" \n",
    "    O código e o nome dos empregados estão na mesma linha, o formato \n",
    "    XXXXXX Nome Completo Empregado\n",
    "    O código pode ser extraído com um row.split()[0]\n",
    "    E o nome será o restante: row.split()[1:]\n",
    "    O ' '.join() irá converter a lista para string.\n",
    "    \"\"\"\n",
    "    cod_emp = arq[i+7].split()[0]\n",
    "    nome_emp = ' '.join(arq[i+7].split()[1:])\n",
    "    # É solicitada uma coluna com o código do empregado formatado com 6 dígitos\n",
    "    cod_emp_form = f'{int(cod_emp):06}'\n",
    "    \n",
    "    # Procura o início dos eventos\n",
    "    i += 8\n",
    "    while arq[i] != 'Cod.':\n",
    "      i += 1\n",
    "    else: # Avança uma última linha para o início dos eventos\n",
    "      i += 1\n",
    "    \n",
    "    eventos = list()\n",
    "    evento = list()\n",
    "    while arq[i] != 'Total de Proventos':\n",
    "      evento.append(arq[i])\n",
    "      if len(evento) == 5:\n",
    "        eventos.append(evento)\n",
    "        evento = list()\n",
    "      i += 1\n",
    "    # Descarta os eventos vazios verificando se há código de evento (último elemento)\n",
    "    eventos = [evento for evento in eventos if evento[-1]]\n",
    "    # Adiciona os eventos à tabela de registros\n",
    "    for evento in eventos:\n",
    "      # Verifica se é provento ou desconto\n",
    "      if evento[0]:\n",
    "        tipo = 'Desconto'\n",
    "        valor = evento[0]\n",
    "      else:\n",
    "        tipo = 'Provento'\n",
    "        valor = evento[1]\n",
    "      cod_evento = evento[4]\n",
    "      nome_evento = evento[3]\n",
    "      registro = [competencia, empregador, cnpj, cod_emp, nome_emp, cargo, admissao,\n",
    "                  lotacao, cod_evento, nome_evento, tipo, valor, cod_emp_form]\n",
    "      registros.loc[len(registros)] = registro\n",
    "\n",
    "  return registros"
   ],
   "metadata": {
    "collapsed": false,
    "ExecuteTime": {
     "end_time": "2024-04-16T17:16:39.740714Z",
     "start_time": "2024-04-16T17:16:39.727513Z"
    }
   },
   "id": "aabb7fcf2eddc0e9",
   "execution_count": 3
  },
  {
   "cell_type": "code",
   "outputs": [],
   "source": [
    "#FORTES('VIGON ADM 45 - CONTRACHEQUE.html')"
   ],
   "metadata": {
    "collapsed": false,
    "ExecuteTime": {
     "end_time": "2024-04-16T17:16:43.797956Z",
     "start_time": "2024-04-16T17:16:43.795053Z"
    }
   },
   "id": "78ab536c028a9f10",
   "execution_count": 4
  },
  {
   "cell_type": "markdown",
   "source": [
    "# FIBRA"
   ],
   "metadata": {
    "collapsed": false
   },
   "id": "fe7f3acafb08e3c4"
  },
  {
   "cell_type": "code",
   "outputs": [],
   "source": [
    "def FIBRA(path: str) -> pd.DataFrame:\n",
    "\n",
    "  folha = pd.read_excel(path).fillna('')\n",
    "  # Guarda apenas as colunas necessárias\n",
    "  folha.columns = ['Cod_Evento', 'Desc_Evento', 'Referência', 'Provento', \n",
    "                   'Desconto', '', 'Cod_Emp', 'Nome_Emp', '', 'Cargo', \n",
    "                   '', 'Competência', '', '']\n",
    "  folha = folha[['Cod_Evento', 'Desc_Evento', 'Referência', 'Provento', \n",
    "                 'Desconto', 'Cod_Emp', 'Nome_Emp', 'Cargo', 'Competência']]\n",
    "  \n",
    "  # Tabela onde todos os dados serão guardados\n",
    "  registros = pd.DataFrame(\n",
    "      columns = ['DATA_FOLHA', 'EMPRESA', 'CNPJ', 'CODIGO_EMPREGADO',\t\n",
    "                 'NOME_EMPREGADO', 'CARGO', 'ADMISSAO', 'LOTACAO', 'CODIGO_EVENTO',\n",
    "                 'NOME_EVENTO',\t'TIPO',\t'VALOR', 'CODIGO_EMPREGADO_FORM'])\n",
    "  \n",
    "  # Realiza a contagem de quantos funcionários estão na folha\n",
    "  tot_func = folha['Cod_Evento'].to_list().count('Empregador')\n",
    "\n",
    "  empregador = folha['Provento'].iloc[0]\n",
    "  # Guarda apenas os números do CNPJ\n",
    "  cnpj = folha['Desc_Evento'].iloc[0]\n",
    "  cnpj = ''.join([i for i in cnpj if i.isnumeric()])\n",
    "  # O mês está no formato de datetime, então precisa ser convertido\n",
    "  meses = {\n",
    "      '2024-01':'Janeiro de 2024',\n",
    "      '2024-02':'Fevereiro de 2024',\n",
    "      '2024-03':'Março de 2024',\n",
    "      '2024-04':'Abril de 2024',\n",
    "      '2024-05':'Maio de 2024',\n",
    "      '2024-06':'Junho de 2024',\n",
    "      '2024-07':'Julho de 2024',\n",
    "      '2024-08':'Agosto de 2024',\n",
    "      '2024-09':'Setembro de 2024',\n",
    "      '2024-10':'Outubro de 2024',\n",
    "      '2024-11':'Novembro de 2024',\n",
    "      '2024-12':'Dezembro de 2024',\n",
    "  }\n",
    "  competencia = meses[str(folha['Competência'].iloc[1])[:7]]\n",
    "  \n",
    "  index = 0\n",
    "  for _ in range(tot_func):\n",
    "      while folha['Cod_Evento'].iloc[index] != 'Empregador':\n",
    "        index += 1\n",
    "      # Acessa as informações do empregado pela posição das linhas\n",
    "      lotacao = folha['Referência'].iloc[index][6:]\n",
    "      index += 1\n",
    "      nome_emp = folha['Nome_Emp'].iloc[index]\n",
    "      cod_emp = folha['Cod_Emp'].iloc[index]\n",
    "      cod_emp_form = f'{int(cod_emp):06}'\n",
    "      cargo = folha['Cargo'].iloc[index]\n",
    "      admissao = ''\n",
    "      # Início dos eventos\n",
    "      index += 3\n",
    "      start = index\n",
    "      # Procura o fim dos eventos\n",
    "      while folha['Cod_Evento'].iloc[index][:2].isnumeric():\n",
    "        index += 1\n",
    "      else:\n",
    "        end = index\n",
    "      # Guarda os eventos\n",
    "      eventos = folha[['Cod_Evento', 'Desc_Evento', 'Provento', 'Desconto']].iloc[start:end]\n",
    "      # Adiciona os eventos à tabela de registros\n",
    "      for row in range(eventos.shape[0]):\n",
    "        # Verifica se é provento ou desconto\n",
    "        if eventos['Provento'].iloc[row]:\n",
    "          tipo = 'Provento'\n",
    "          valor = eventos['Provento'].iloc[row]\n",
    "        else:\n",
    "          tipo = 'Desconto'\n",
    "          valor = eventos['Desconto'].iloc[row]\n",
    "        cod_evento = eventos['Cod_Evento'].iloc[row]\n",
    "        nome_evento = eventos['Desc_Evento'].iloc[row]\n",
    "        registro = [competencia, empregador, cnpj, cod_emp, nome_emp, cargo, admissao,\n",
    "                    lotacao, cod_evento, nome_evento, tipo, valor, cod_emp_form]\n",
    "        registros.loc[len(registros)] = registro\n",
    "        \n",
    "  return registros"
   ],
   "metadata": {
    "collapsed": false,
    "ExecuteTime": {
     "end_time": "2024-04-16T17:16:45.850559Z",
     "start_time": "2024-04-16T17:16:45.829085Z"
    }
   },
   "id": "f1cf80c747bb5234",
   "execution_count": 5
  },
  {
   "cell_type": "code",
   "outputs": [],
   "source": [
    "#FIBRA(os.listdir()[1])"
   ],
   "metadata": {
    "collapsed": false,
    "ExecuteTime": {
     "end_time": "2024-04-16T17:17:04.273579Z",
     "start_time": "2024-04-16T17:17:04.146835Z"
    }
   },
   "id": "bd925d80c63576b8",
   "execution_count": 6
  },
  {
   "cell_type": "markdown",
   "source": [
    "# SOLUCAO"
   ],
   "metadata": {
    "collapsed": false
   },
   "id": "f2e1f9f8adb36756"
  },
  {
   "cell_type": "code",
   "outputs": [],
   "source": [
    "def SOLUCAO(path: str) -> pd.DataFrame:\n",
    "\n",
    "  # Leitura do arquivo\n",
    "  arq = pd.read_excel(path).fillna('')\n",
    "\n",
    "  # Tabela onde todos os dados serão guardados\n",
    "  registros = pd.DataFrame(\n",
    "      columns = ['DATA_FOLHA', 'EMPRESA', 'CNPJ', 'CODIGO_EMPREGADO',\t\n",
    "                 'NOME_EMPREGADO', 'CARGO', 'ADMISSAO', 'LOTACAO', 'CODIGO_EVENTO',\n",
    "                 'NOME_EVENTO',\t'TIPO',\t'VALOR', 'CODIGO_EMPREGADO_FORM'])\n",
    "\n",
    "  eventos = pd.DataFrame()\n",
    "\n",
    "  competencia = str()\n",
    "  empregador = str()\n",
    "  nome_emp = str()\n",
    "  admissao = str()\n",
    "  cod_emp = str()\n",
    "  lotacao = str()\n",
    "  cargo = str()\n",
    "  cnpj = str()\n",
    "\n",
    "  index = 0\n",
    "  start = 0\n",
    "  end = int()\n",
    "  proximo = bool()\n",
    "  count_empregados = 0\n",
    "\n",
    "  col_lotacao = str()\n",
    "  col_descricoes = str()\n",
    "  col_proventos = str()\n",
    "  col_descontos = str()\n",
    "  col_competencia = str()\n",
    "  col_nome = str()\n",
    "\n",
    "  # Definição das colunas que serão guardadas\n",
    "\n",
    "  # Guarda o empregador que é um para o arquivo todo\n",
    "  empregador = arq['Coluna3'].iloc[0]\n",
    "  # Há um caso que o nome da empresa vem errado, a correção é feita abaixo.\n",
    "  if empregador.strip() == 'MAIS SOLUCAO EM LOCACAO DE MAO DE OBRA I':\n",
    "    empregador = 'MAIS SOLUCAO EM LOCACAO DE MAO DE OBRA INTEGRADA S.A.'\n",
    "  # Encontra a coluna que contém o CNPJ\n",
    "  for coluna in arq.columns[4:]:\n",
    "    if arq[coluna].iloc[1]:\n",
    "      cnpj = arq[coluna].iloc[1]\n",
    "      cnpj = f'{int(cnpj):014}'\n",
    "      break\n",
    "  # Encontra a coluna em que está a lotação\n",
    "  for coluna in arq:\n",
    "    if arq[coluna].iloc[4] == 'Departamento':\n",
    "      col_lotacao = coluna\n",
    "      break\n",
    "  # Encontra a coluna em que estão as descricoes\n",
    "  for coluna in arq:\n",
    "    if arq[coluna].iloc[8] == 'Descrição':\n",
    "      col_descricoes = coluna\n",
    "      break\n",
    "  # Encontra a coluna em que estão os proventos\n",
    "  for coluna in arq:\n",
    "    if arq[coluna].iloc[8] == 'Vencimentos':\n",
    "      col_proventos = coluna\n",
    "      break\n",
    "  # Encontra a coluna em que estão os descontos\n",
    "  for coluna in arq:\n",
    "    if arq[coluna].iloc[8] == 'Descontos':\n",
    "      col_descontos = coluna\n",
    "      break\n",
    "  # Encontra a coluna em que estão as competências\n",
    "  for i, coluna in enumerate(arq):\n",
    "    if arq[coluna].iloc[1] == 'Folha Mensal':\n",
    "      col_competencia = arq.columns[i+1]\n",
    "      break\n",
    "  # Encontra a coluna em que está o nome\n",
    "  for coluna in arq:\n",
    "    if arq[coluna].iloc[4] == 'Nome do Funcionário':\n",
    "      col_nome = coluna\n",
    "      break\n",
    "  # Encontra a coluna em que está a admissão\n",
    "  # Neste caso é preciso de um indicador booleano pois na linha 6 primeiro\n",
    "  # aparece 'Admissão' e depois a admissão, então é preciso ignorar a primeira coluna.\n",
    "  proximo = False\n",
    "  for coluna in arq:\n",
    "    if arq[coluna].iloc[6]:\n",
    "      if proximo:\n",
    "        col_admissao = coluna\n",
    "        break\n",
    "      elif arq[coluna].iloc[6] == 'Admissão:':\n",
    "        proximo = True\n",
    "\n",
    "  # Guarda apenas as colunas necessárias e as renomeia\n",
    "  colunas = ['Coluna2', col_descricoes, col_proventos, col_descontos, col_nome, col_admissao, col_lotacao, col_competencia]\n",
    "  arq = arq[colunas]\n",
    "  arq.columns = ['Cod_Evento', 'Desc_Evento', 'Provento', 'Desconto', 'Nome_Empregado', 'Admissão', 'Lotação', 'Competência']\n",
    "\n",
    "  # Conta o total de empregados na folha\n",
    "\n",
    "  for i in arq['Cod_Evento'].tolist():\n",
    "    if i == 'Código':\n",
    "      count_empregados += 1\n",
    "\n",
    "  # Início da coleta de dados\n",
    "\n",
    "  for _ in range(count_empregados):\n",
    "\n",
    "    # Encontra a palavra chave 'Código' que será chave para achar os outros dados\n",
    "    # e indica o início dos dados de um funcionário.\n",
    "    start = index\n",
    "    # Encontra os dados do próximo funcionário\n",
    "    for i, row in enumerate(arq['Cod_Evento'].tolist()[start:], start=start):\n",
    "      if row == 'Código':\n",
    "        index = i+1\n",
    "        break\n",
    "    # Coleta os outros dados que estão 'ao redor' da palavra 'Código'\n",
    "    # Verifica se o empregado atual é o mesmo da folha anterior\n",
    "    novo_cod = arq['Cod_Evento'].iloc[index-4]\n",
    "    if cod_emp == novo_cod:\n",
    "      continue\n",
    "    cod_emp = novo_cod\n",
    "    cod_emp_form = f'{int(cod_emp):06}'\n",
    "    nome_emp = arq['Nome_Empregado'].iloc[index-4]\n",
    "    cargo = arq['Nome_Empregado'].iloc[index-3]\n",
    "    admissao = str(arq['Admissão'].iloc[index-3])\n",
    "    lotacao = arq['Lotação'].iloc[index-4]\n",
    "    competencia = arq['Competência'].iloc[index-7]\n",
    "\n",
    "    admissao = f'{admissao[8:10]}/{admissao[5:7]}/{admissao[:4]}'\n",
    "    # Coleta os eventos\n",
    "\n",
    "    end = index\n",
    "    # Procura o fim dos eventos\n",
    "    while arq['Cod_Evento'].iloc[end]:\n",
    "      end += 1\n",
    "\n",
    "    eventos = arq[['Cod_Evento', 'Desc_Evento', 'Provento', 'Desconto']].iloc[index:end]\n",
    "\n",
    "    # Adiciona os eventos à tabela de registros\n",
    "    for row in range(eventos.shape[0]):\n",
    "      # Verifica se é provaneto ou desconto\n",
    "      if eventos['Provento'].iloc[row]:\n",
    "        tipo = 'Provento'\n",
    "        valor = eventos['Provento'].iloc[row]\n",
    "      else:\n",
    "        tipo = 'Desconto'\n",
    "        valor = eventos['Desconto'].iloc[row]\n",
    "\n",
    "      cod_evento = eventos['Cod_Evento'].iloc[row]\n",
    "      nome_evento = eventos['Desc_Evento'].iloc[row]\n",
    "      registro = [competencia, empregador, cnpj, cod_emp, nome_emp, cargo, admissao,\n",
    "                  lotacao, cod_evento, nome_evento, tipo, valor, cod_emp_form]\n",
    "      registros.loc[len(registros)] = registro\n",
    "\n",
    "\n",
    "  return registros"
   ],
   "metadata": {
    "collapsed": false,
    "ExecuteTime": {
     "end_time": "2024-04-16T17:17:06.666534Z",
     "start_time": "2024-04-16T17:17:06.405793Z"
    }
   },
   "id": "6417af99ab67708e",
   "execution_count": 7
  },
  {
   "cell_type": "code",
   "outputs": [],
   "source": [
    "#SOLUCAO(os.listdir()[1])"
   ],
   "metadata": {
    "collapsed": false,
    "ExecuteTime": {
     "end_time": "2024-04-16T17:17:10.223266Z",
     "start_time": "2024-04-16T17:17:10.212721Z"
    }
   },
   "id": "868f53010d2af546",
   "execution_count": 8
  },
  {
   "cell_type": "markdown",
   "source": [
    "# Junção de planilhas"
   ],
   "metadata": {
    "collapsed": false
   },
   "id": "ad1eef58d2a55989"
  },
  {
   "cell_type": "code",
   "outputs": [
    {
     "ename": "KeyError",
     "evalue": "'CNPJ'",
     "output_type": "error",
     "traceback": [
      "\u001B[1;31m---------------------------------------------------------------------------\u001B[0m",
      "\u001B[1;31mKeyError\u001B[0m                                  Traceback (most recent call last)",
      "Cell \u001B[1;32mIn[9], line 8\u001B[0m\n\u001B[0;32m      5\u001B[0m   folha \u001B[38;5;241m=\u001B[39m pd\u001B[38;5;241m.\u001B[39mconcat([folha, folha_temp])\n\u001B[0;32m      7\u001B[0m \u001B[38;5;66;03m# Ajusta o CNPJ que volta para o tipo int\u001B[39;00m\n\u001B[1;32m----> 8\u001B[0m folha[\u001B[38;5;124m'\u001B[39m\u001B[38;5;124mCNPJ\u001B[39m\u001B[38;5;124m'\u001B[39m] \u001B[38;5;241m=\u001B[39m \u001B[43mfolha\u001B[49m\u001B[43m[\u001B[49m\u001B[38;5;124;43m'\u001B[39;49m\u001B[38;5;124;43mCNPJ\u001B[39;49m\u001B[38;5;124;43m'\u001B[39;49m\u001B[43m]\u001B[49m\u001B[38;5;241m.\u001B[39mapply(\u001B[38;5;28;01mlambda\u001B[39;00m x: \u001B[38;5;124mf\u001B[39m\u001B[38;5;124m'\u001B[39m\u001B[38;5;132;01m{\u001B[39;00m\u001B[38;5;28mint\u001B[39m(x)\u001B[38;5;132;01m:\u001B[39;00m\u001B[38;5;124m014\u001B[39m\u001B[38;5;132;01m}\u001B[39;00m\u001B[38;5;124m'\u001B[39m)\n\u001B[0;32m      9\u001B[0m \u001B[38;5;66;03m# Corrige lotações com espaços no final\u001B[39;00m\n\u001B[0;32m     10\u001B[0m folha[\u001B[38;5;124m'\u001B[39m\u001B[38;5;124mLOTACAO\u001B[39m\u001B[38;5;124m'\u001B[39m] \u001B[38;5;241m=\u001B[39m folha[\u001B[38;5;124m'\u001B[39m\u001B[38;5;124mLOTACAO\u001B[39m\u001B[38;5;124m'\u001B[39m]\u001B[38;5;241m.\u001B[39mapply(\u001B[38;5;28;01mlambda\u001B[39;00m x: x\u001B[38;5;241m.\u001B[39mstrip())\n",
      "File \u001B[1;32m~\\PycharmProjects\\Automacoes\\.venv\\Lib\\site-packages\\pandas\\core\\frame.py:4090\u001B[0m, in \u001B[0;36mDataFrame.__getitem__\u001B[1;34m(self, key)\u001B[0m\n\u001B[0;32m   4088\u001B[0m \u001B[38;5;28;01mif\u001B[39;00m \u001B[38;5;28mself\u001B[39m\u001B[38;5;241m.\u001B[39mcolumns\u001B[38;5;241m.\u001B[39mnlevels \u001B[38;5;241m>\u001B[39m \u001B[38;5;241m1\u001B[39m:\n\u001B[0;32m   4089\u001B[0m     \u001B[38;5;28;01mreturn\u001B[39;00m \u001B[38;5;28mself\u001B[39m\u001B[38;5;241m.\u001B[39m_getitem_multilevel(key)\n\u001B[1;32m-> 4090\u001B[0m indexer \u001B[38;5;241m=\u001B[39m \u001B[38;5;28;43mself\u001B[39;49m\u001B[38;5;241;43m.\u001B[39;49m\u001B[43mcolumns\u001B[49m\u001B[38;5;241;43m.\u001B[39;49m\u001B[43mget_loc\u001B[49m\u001B[43m(\u001B[49m\u001B[43mkey\u001B[49m\u001B[43m)\u001B[49m\n\u001B[0;32m   4091\u001B[0m \u001B[38;5;28;01mif\u001B[39;00m is_integer(indexer):\n\u001B[0;32m   4092\u001B[0m     indexer \u001B[38;5;241m=\u001B[39m [indexer]\n",
      "File \u001B[1;32m~\\PycharmProjects\\Automacoes\\.venv\\Lib\\site-packages\\pandas\\core\\indexes\\range.py:417\u001B[0m, in \u001B[0;36mRangeIndex.get_loc\u001B[1;34m(self, key)\u001B[0m\n\u001B[0;32m    415\u001B[0m         \u001B[38;5;28;01mraise\u001B[39;00m \u001B[38;5;167;01mKeyError\u001B[39;00m(key) \u001B[38;5;28;01mfrom\u001B[39;00m \u001B[38;5;21;01merr\u001B[39;00m\n\u001B[0;32m    416\u001B[0m \u001B[38;5;28;01mif\u001B[39;00m \u001B[38;5;28misinstance\u001B[39m(key, Hashable):\n\u001B[1;32m--> 417\u001B[0m     \u001B[38;5;28;01mraise\u001B[39;00m \u001B[38;5;167;01mKeyError\u001B[39;00m(key)\n\u001B[0;32m    418\u001B[0m \u001B[38;5;28mself\u001B[39m\u001B[38;5;241m.\u001B[39m_check_indexing_error(key)\n\u001B[0;32m    419\u001B[0m \u001B[38;5;28;01mraise\u001B[39;00m \u001B[38;5;167;01mKeyError\u001B[39;00m(key)\n",
      "\u001B[1;31mKeyError\u001B[0m: 'CNPJ'"
     ]
    }
   ],
   "source": [
    "folha = pd.DataFrame()\n",
    "files = [file for file in os.listdir() if '.xlsx' in file]\n",
    "for file in files:\n",
    "  folha_temp = pd.read_excel(file)\n",
    "  folha = pd.concat([folha, folha_temp])\n",
    "\n",
    "# Ajusta o CNPJ que volta para o tipo int\n",
    "folha['CNPJ'] = folha['CNPJ'].apply(lambda x: f'{int(x):014}')\n",
    "# Corrige lotações com espaços no final\n",
    "folha['LOTACAO'] = folha['LOTACAO'].apply(lambda x: x.strip())\n",
    "# Remove acentos das colunas\n",
    "for col in ['EMPRESA', 'NOME_EMPREGADO', 'LOTACAO', 'NOME_EVENTO']:\n",
    "  folha[col] = folha[col].apply(str)\n",
    "  folha[col] = folha[col].apply(unidecode)\n",
    "# Ajusta lotações que começam com números\n",
    "folha['LOTACAO'] = folha['LOTACAO'].apply(\n",
    "                       lambda x: x[x.find(' - ')+3:] if x[0].isnumeric() else x)\n",
    "\n",
    "folha.to_excel('Folha GERAL.xlsx', index=False)"
   ],
   "metadata": {
    "collapsed": false,
    "ExecuteTime": {
     "end_time": "2024-04-16T17:17:17.598632Z",
     "start_time": "2024-04-16T17:17:12.335016Z"
    }
   },
   "id": "219c249438a6daba",
   "execution_count": 9
  },
  {
   "cell_type": "code",
   "outputs": [],
   "source": [],
   "metadata": {
    "collapsed": false,
    "ExecuteTime": {
     "end_time": "2024-04-16T17:19:14.350678Z",
     "start_time": "2024-04-16T17:19:14.323024Z"
    }
   },
   "id": "ce07c1e2ca8a815a",
   "execution_count": 10
  }
 ],
 "metadata": {
  "kernelspec": {
   "display_name": "Python 3",
   "language": "python",
   "name": "python3"
  },
  "language_info": {
   "codemirror_mode": {
    "name": "ipython",
    "version": 2
   },
   "file_extension": ".py",
   "mimetype": "text/x-python",
   "name": "python",
   "nbconvert_exporter": "python",
   "pygments_lexer": "ipython2",
   "version": "2.7.6"
  }
 },
 "nbformat": 4,
 "nbformat_minor": 5
}
