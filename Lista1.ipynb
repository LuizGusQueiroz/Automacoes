{
  "nbformat": 4,
  "nbformat_minor": 0,
  "metadata": {
    "colab": {
      "provenance": [],
      "authorship_tag": "ABX9TyMxy8JY2pFBhUpryxnWSI21",
      "include_colab_link": true
    },
    "kernelspec": {
      "name": "python3",
      "display_name": "Python 3"
    },
    "language_info": {
      "name": "python"
    }
  },
  "cells": [
    {
      "cell_type": "markdown",
      "metadata": {
        "id": "view-in-github",
        "colab_type": "text"
      },
      "source": [
        "<a href=\"https://colab.research.google.com/github/LuizGusQueiroz/Projetos_Estagio/blob/main/Lista1.ipynb\" target=\"_parent\"><img src=\"https://colab.research.google.com/assets/colab-badge.svg\" alt=\"Open In Colab\"/></a>"
      ]
    },
    {
      "cell_type": "markdown",
      "source": [
        "# Slice"
      ],
      "metadata": {
        "id": "ea03LgJhWeKa"
      }
    },
    {
      "cell_type": "markdown",
      "source": [
        "Apesar de utilizarmos listas para armazenar vários elementos, existem situações em que precisamos utilizar apenas parte desta lista. Por exemplo, podemos guardar em uma lista de 30 elementos com o registro do preço do dólar a cada dia nos últimos 30 dias. Posteriormente, podemos querer visualizar o custo do dólar apenas nos últimos 7 dias, para isso pegando os últimos 7 elementos da lista ao invés de 30.\n",
        "\n",
        "Em python, quando selecionamos partes da lista, denominamos esta operação de slicing, podendo ser realizada não apenas para seleção dos últimos elementos da lista, como também elementos em qualquer posição da lista.\n",
        "\n",
        "Sabendo disso, crie uma função particionarLista() em python que recebe uma lista e retorne apenas os elementos das posições 5 até 12."
      ],
      "metadata": {
        "id": "xPxSy3tMUciH"
      }
    },
    {
      "cell_type": "markdown",
      "source": [
        "## Resposta"
      ],
      "metadata": {
        "id": "GE1LhuGYVxZH"
      }
    },
    {
      "cell_type": "code",
      "execution_count": 13,
      "metadata": {
        "id": "XO4TVP8GtOiM"
      },
      "outputs": [],
      "source": [
        "def particionarLista(lista:list) -> list:\n",
        "  return lista[5:12]"
      ]
    },
    {
      "cell_type": "markdown",
      "source": [
        "## Testes"
      ],
      "metadata": {
        "id": "n6gK70ypVzHP"
      }
    },
    {
      "cell_type": "code",
      "source": [
        "input1 = [47, 27 ,25, 27, 13,47, 49, 39, 9, 45, 13, 37]\n",
        "\n",
        "particionarLista(input1)"
      ],
      "metadata": {
        "colab": {
          "base_uri": "https://localhost:8080/"
        },
        "id": "GzZA_QFjVeqt",
        "outputId": "b57d4d0f-ae70-44c4-ea90-335262f1cbd7"
      },
      "execution_count": 15,
      "outputs": [
        {
          "output_type": "execute_result",
          "data": {
            "text/plain": [
              "[47, 49, 39, 9, 45, 13, 37]"
            ]
          },
          "metadata": {},
          "execution_count": 15
        }
      ]
    },
    {
      "cell_type": "code",
      "source": [
        "input2 = [18, 9, 31, 11, 50, 25, 20, 48, 28, 22, 25, 20]\n",
        "\n",
        "particionarLista(input2)"
      ],
      "metadata": {
        "colab": {
          "base_uri": "https://localhost:8080/"
        },
        "id": "PcRZMi_eV569",
        "outputId": "de3e9dc3-e0fa-4f55-c4a1-bdfd1bd99831"
      },
      "execution_count": 17,
      "outputs": [
        {
          "output_type": "execute_result",
          "data": {
            "text/plain": [
              "[25, 20, 48, 28, 22, 25, 20]"
            ]
          },
          "metadata": {},
          "execution_count": 17
        }
      ]
    },
    {
      "cell_type": "code",
      "source": [
        "input3 = [38, 25, 5, 11, 45, 44, 23, 6, 48, 37, 50, 25, 47, 23, 42, 33]\n",
        "\n",
        "particionarLista(input3)"
      ],
      "metadata": {
        "colab": {
          "base_uri": "https://localhost:8080/"
        },
        "id": "pn8NgLnDWHUa",
        "outputId": "36919b7b-2424-43da-cdd7-bdf55fbafb20"
      },
      "execution_count": 18,
      "outputs": [
        {
          "output_type": "execute_result",
          "data": {
            "text/plain": [
              "[44, 23, 6, 48, 37, 50, 25]"
            ]
          },
          "metadata": {},
          "execution_count": 18
        }
      ]
    },
    {
      "cell_type": "markdown",
      "source": [
        "# Ordenando listas"
      ],
      "metadata": {
        "id": "clMvoZSfWYeR"
      }
    },
    {
      "cell_type": "markdown",
      "source": [
        "Em um sistema, comumente utilizamos listas para armazenamento de dados. Entretanto, existem casos em que torna-se necessário criarmos um padrão de organização dos dados. Por exemplo, podemos organizar um cadastro de clientes pela idade destes usuários. Este procedimento de organização é conhecido como ordenação.\n",
        "\n",
        "Sabendo disso, crie uma função chamada ordena_lista() que recebe uma lista de elementos e ordene-os em ordem decrescente. A função possui como parâmetro a lista a ser ordenada e retorna a mesma lista ordenada de forma decrescente."
      ],
      "metadata": {
        "id": "vzDT-3n0UpqV"
      }
    },
    {
      "cell_type": "markdown",
      "source": [
        "## Resposta"
      ],
      "metadata": {
        "id": "WobWkBUoWjyR"
      }
    },
    {
      "cell_type": "code",
      "source": [
        "def ordena_lista(lista:list) -> list:\n",
        "  for i in range( len(lista)-1 ):\n",
        "    for j in range( i, len(lista) ):\n",
        "      if lista[j] > lista[i]:\n",
        "        temp = lista[i]\n",
        "        lista[i] = lista[j]\n",
        "        lista[j] = temp\n",
        "  return lista"
      ],
      "metadata": {
        "id": "cFXoxUD7WicB"
      },
      "execution_count": 19,
      "outputs": []
    },
    {
      "cell_type": "markdown",
      "source": [
        "## Testes"
      ],
      "metadata": {
        "id": "kNnVVLUWXaWH"
      }
    },
    {
      "cell_type": "code",
      "source": [
        "input1 = [100, 88, 32, 27, 14, 5, 2, 0]\n",
        "\n",
        "ordena_lista(input1)"
      ],
      "metadata": {
        "colab": {
          "base_uri": "https://localhost:8080/"
        },
        "id": "fHYZKSnCXnq3",
        "outputId": "496e9951-49ca-4437-e839-dbdd21a090fb"
      },
      "execution_count": 20,
      "outputs": [
        {
          "output_type": "execute_result",
          "data": {
            "text/plain": [
              "[100, 88, 32, 27, 14, 5, 2, 0]"
            ]
          },
          "metadata": {},
          "execution_count": 20
        }
      ]
    },
    {
      "cell_type": "code",
      "source": [
        "input2 = [29, 25, 25, 18, 15, 14, 3, 1]\n",
        "\n",
        "ordena_lista(input2)"
      ],
      "metadata": {
        "colab": {
          "base_uri": "https://localhost:8080/"
        },
        "id": "R7UPjb3zXwHH",
        "outputId": "375fa0ed-a301-4757-dd0b-e5bedc0ec927"
      },
      "execution_count": 21,
      "outputs": [
        {
          "output_type": "execute_result",
          "data": {
            "text/plain": [
              "[29, 25, 25, 18, 15, 14, 3, 1]"
            ]
          },
          "metadata": {},
          "execution_count": 21
        }
      ]
    },
    {
      "cell_type": "code",
      "source": [
        "input3 = [30, 20, 16, 14, 14, 8, 3, 3]\n",
        "\n",
        "ordena_lista(input3)"
      ],
      "metadata": {
        "colab": {
          "base_uri": "https://localhost:8080/"
        },
        "id": "KViaiNEQXbaC",
        "outputId": "74165551-4113-4b03-81cb-bad88844a138"
      },
      "execution_count": 22,
      "outputs": [
        {
          "output_type": "execute_result",
          "data": {
            "text/plain": [
              "[30, 20, 16, 14, 14, 8, 3, 3]"
            ]
          },
          "metadata": {},
          "execution_count": 22
        }
      ]
    },
    {
      "cell_type": "markdown",
      "source": [
        "# Indexação de listas e último elemento"
      ],
      "metadata": {
        "id": "tZj0quU8XZLP"
      }
    },
    {
      "cell_type": "markdown",
      "source": [
        "Uma lista possui n elementos, sendo comum executarmos determinadas ações em um elemento de determinada posição. Por exemplo, podemos substituir o elemento da primeira posição da lista por outro valor desejado. Quando selecionamos um elemento, chamamos isto de indexação.\n",
        "\n",
        "Sendo assim, escreva uma função ultimoElemento() em python que recebe uma lista e retorna o último elemento da lista."
      ],
      "metadata": {
        "id": "sKpmzHHgXXN_"
      }
    },
    {
      "cell_type": "markdown",
      "source": [
        "## Resposta"
      ],
      "metadata": {
        "id": "Ro-rMlrVYCOX"
      }
    },
    {
      "cell_type": "code",
      "source": [
        "def ultimoElemento(lista:list):\n",
        "  return lista[-1]"
      ],
      "metadata": {
        "id": "ngq6WxTiYB2O"
      },
      "execution_count": 24,
      "outputs": []
    },
    {
      "cell_type": "markdown",
      "source": [
        "## Testes"
      ],
      "metadata": {
        "id": "5m38FNJvYTYw"
      }
    },
    {
      "cell_type": "code",
      "source": [
        "input1 = [20, 88, 55, 7, 85]\n",
        "\n",
        "ultimoElemento(input1)"
      ],
      "metadata": {
        "colab": {
          "base_uri": "https://localhost:8080/"
        },
        "id": "cxQ4KgkzYVi1",
        "outputId": "d0069f91-aeff-4f77-f15a-169d40f3d52e"
      },
      "execution_count": 25,
      "outputs": [
        {
          "output_type": "execute_result",
          "data": {
            "text/plain": [
              "85"
            ]
          },
          "metadata": {},
          "execution_count": 25
        }
      ]
    },
    {
      "cell_type": "code",
      "source": [
        "input2 = [65, 41, 27, 66, 100]\n",
        "\n",
        "ultimoElemento(input2)"
      ],
      "metadata": {
        "colab": {
          "base_uri": "https://localhost:8080/"
        },
        "id": "ZUovroyTYY-N",
        "outputId": "1fdd8a91-fbcd-4a02-9fc1-2c8a58b684a9"
      },
      "execution_count": 27,
      "outputs": [
        {
          "output_type": "execute_result",
          "data": {
            "text/plain": [
              "100"
            ]
          },
          "metadata": {},
          "execution_count": 27
        }
      ]
    },
    {
      "cell_type": "code",
      "source": [
        "input3 = [19, 16, 30, 31, 37]\n",
        "\n",
        "ultimoElemento(input3)"
      ],
      "metadata": {
        "colab": {
          "base_uri": "https://localhost:8080/"
        },
        "id": "YFlTIK0xYUcG",
        "outputId": "e641bc0c-e1b2-4e6e-95e3-b1a71155866c"
      },
      "execution_count": 28,
      "outputs": [
        {
          "output_type": "execute_result",
          "data": {
            "text/plain": [
              "37"
            ]
          },
          "metadata": {},
          "execution_count": 28
        }
      ]
    },
    {
      "cell_type": "markdown",
      "source": [
        "# Elementos individuais de listas"
      ],
      "metadata": {
        "id": "6L-6JY91YqF0"
      }
    },
    {
      "cell_type": "markdown",
      "source": [
        "Muitas vezes, precisamos acessar elementos individuais de listas, o que é possível de ser feito a partir de sua indexação.\n",
        "\n",
        "Sabendo disso, crie uma função retornaPenultimoEQuartoElementodeLista() que recebe uma lista e retorne o quarto e o penúltimo elemento desta lista, nesta ordem."
      ],
      "metadata": {
        "id": "n65oW2z1Ypod"
      }
    },
    {
      "cell_type": "markdown",
      "source": [
        "## Resposta"
      ],
      "metadata": {
        "id": "Gv5z-84gYwlk"
      }
    },
    {
      "cell_type": "code",
      "source": [
        "def retornaPenultimoEQuartoElementodeLista(lista:list) -> list:\n",
        "  return [ lista[3], lista[-2] ]"
      ],
      "metadata": {
        "id": "zuCvHxNLYxwJ"
      },
      "execution_count": 29,
      "outputs": []
    },
    {
      "cell_type": "markdown",
      "source": [
        "## Testes"
      ],
      "metadata": {
        "id": "0YQg9nywZgMK"
      }
    },
    {
      "cell_type": "code",
      "source": [
        "input1 = [18, 44, 44, 15, 9, 61, 14, 34, 6, 29]\n",
        "\n",
        "retornaPenultimoEQuartoElementodeLista(input1)"
      ],
      "metadata": {
        "colab": {
          "base_uri": "https://localhost:8080/"
        },
        "id": "U1uXJNL4Zhqy",
        "outputId": "2b824085-a941-48c3-aebb-3b140c5ac5c2"
      },
      "execution_count": 30,
      "outputs": [
        {
          "output_type": "execute_result",
          "data": {
            "text/plain": [
              "[15, 6]"
            ]
          },
          "metadata": {},
          "execution_count": 30
        }
      ]
    },
    {
      "cell_type": "code",
      "source": [
        "input2 = [99, 26, 83, 71, 27, 24, 31, 73, 38, 33]\n",
        "\n",
        "retornaPenultimoEQuartoElementodeLista(input2)"
      ],
      "metadata": {
        "colab": {
          "base_uri": "https://localhost:8080/"
        },
        "id": "P0HIfdUcZlpr",
        "outputId": "85cbb19c-c9fa-4ffa-8b2d-fb58e0661b1c"
      },
      "execution_count": 31,
      "outputs": [
        {
          "output_type": "execute_result",
          "data": {
            "text/plain": [
              "[71, 38]"
            ]
          },
          "metadata": {},
          "execution_count": 31
        }
      ]
    },
    {
      "cell_type": "code",
      "source": [
        "input3 = [50, 64, 71, 73, 81, 21, 97, 71, 93, 75]\n",
        "\n",
        "retornaPenultimoEQuartoElementodeLista(input3)"
      ],
      "metadata": {
        "colab": {
          "base_uri": "https://localhost:8080/"
        },
        "id": "eOfTuJ8AZf0q",
        "outputId": "8ac64052-2223-468f-c704-db6d6e244f83"
      },
      "execution_count": 32,
      "outputs": [
        {
          "output_type": "execute_result",
          "data": {
            "text/plain": [
              "[73, 93]"
            ]
          },
          "metadata": {},
          "execution_count": 32
        }
      ]
    },
    {
      "cell_type": "markdown",
      "source": [
        "# Elemento e índice"
      ],
      "metadata": {
        "id": "66A5MjxoZ826"
      }
    },
    {
      "cell_type": "markdown",
      "source": [
        "Em python, muitas vezes é útil iterarmos tanto pelos elementos quanto pelos índices de listas. Sabendo disso, crie uma função calculaPotencia() que recebe uma lista A e retorna uma lista B, tal que os elementos desta lista sejam iguais aos elementos da lista A elevado a potência igual ao índice do respectivo elemento.\n",
        "\n",
        "Por exemplo, dado uma lista A = [2,5,6], gere uma lista B = [2^0, 5^1, 6^2]."
      ],
      "metadata": {
        "id": "dSd1xowGZ8s7"
      }
    },
    {
      "cell_type": "markdown",
      "source": [
        "## Resposta"
      ],
      "metadata": {
        "id": "hzCiD3IjaB9K"
      }
    },
    {
      "cell_type": "code",
      "source": [
        "def calculaPotencia(lista:list) -> list:\n",
        "  nova_lista = list()\n",
        "\n",
        "  for i in range( len(lista) ):\n",
        "    nova_lista.append( lista[i]**i )\n",
        "\n",
        "  return nova_lista"
      ],
      "metadata": {
        "id": "OxFF_eOiaDVM"
      },
      "execution_count": 34,
      "outputs": []
    },
    {
      "cell_type": "markdown",
      "source": [
        "## Testes"
      ],
      "metadata": {
        "id": "AKXxDm0Yaw5S"
      }
    },
    {
      "cell_type": "code",
      "source": [
        "input1 = [24, 40]\n",
        "\n",
        "calculaPotencia(input1)"
      ],
      "metadata": {
        "colab": {
          "base_uri": "https://localhost:8080/"
        },
        "id": "wujdaBpca0xp",
        "outputId": "3bb303c1-0df9-4f31-e0d0-3bb6e6f6dc59"
      },
      "execution_count": 35,
      "outputs": [
        {
          "output_type": "execute_result",
          "data": {
            "text/plain": [
              "[1, 40]"
            ]
          },
          "metadata": {},
          "execution_count": 35
        }
      ]
    },
    {
      "cell_type": "code",
      "source": [
        "input2 = [63, 21, 30, 33]\n",
        "\n",
        "calculaPotencia(input2)"
      ],
      "metadata": {
        "colab": {
          "base_uri": "https://localhost:8080/"
        },
        "id": "VYQ93i3wa3PY",
        "outputId": "74c4f2a0-b11e-4c1b-b429-a5e28681fd84"
      },
      "execution_count": 36,
      "outputs": [
        {
          "output_type": "execute_result",
          "data": {
            "text/plain": [
              "[1, 21, 900, 35937]"
            ]
          },
          "metadata": {},
          "execution_count": 36
        }
      ]
    },
    {
      "cell_type": "code",
      "source": [
        "input3 = [67, 78, 23, 57]\n",
        "\n",
        "calculaPotencia(input3)"
      ],
      "metadata": {
        "colab": {
          "base_uri": "https://localhost:8080/"
        },
        "id": "QwZqWvLAayXb",
        "outputId": "afc6abb2-a6bd-4d76-9961-f3256c747127"
      },
      "execution_count": 37,
      "outputs": [
        {
          "output_type": "execute_result",
          "data": {
            "text/plain": [
              "[1, 78, 529, 185193]"
            ]
          },
          "metadata": {},
          "execution_count": 37
        }
      ]
    },
    {
      "cell_type": "markdown",
      "source": [
        "# Função zip"
      ],
      "metadata": {
        "id": "Wqk9FjlHbOPX"
      }
    },
    {
      "cell_type": "markdown",
      "source": [
        "Em programação, podemos fazer uso de diferentes listas para armazenar nossos dados para, posteriormente, unir informações destas listas. Por exemplo, podemos guardar em uma lista os nomes de funcionários de uma empresa e, em outra lista, os cargos que estes funcionários ocupam.\n",
        "\n",
        "\n",
        "```\n",
        "funcionarios = [\"Paulo\", \"Andrea\", \"Marta\"]\n",
        "profissao = [\"cientista de dados\", \"engenheiro de dados\", \"desenvolvedor\"]\n",
        "```\n",
        "Dado essas duas listas, podemos querer exibir as duas informações conjuntamente da seguinte forma:\n",
        "```\n",
        "[('Paulo', 'cientista de dados'), ('Andrea', 'engenheiro de dados'), ('Marta', 'desenvolvedor')]\n",
        "```\n",
        "Podemos fazer isto por meio da função zip que recebe as duas listas e retorna uma saída como exposta acima. Além de exibir os valores, podemos fazer uso da função zip para diversas funcionalidades. Sabendo disso, crie uma função ultimoElementoLista2D() que receba uma lista de duas dimensões (isto é, uma lista de listas, na forma de matriz) e utilize o zip para retornar o último elemento de cada sublista.\n",
        "\n",
        "Por exemplo, se tivermos a lista abaixo:\n",
        "```\n",
        "[\n",
        " [192, 193, 194],\n",
        " [507, 508, 509],\n",
        " [526, 527, 528, 529],\n",
        " [560, 561],\n",
        " [635, 636, 637]\n",
        "]\n",
        "```\n",
        "Retorne ```[194, 509, 529, 561, 637]```."
      ],
      "metadata": {
        "id": "JZ7t8ggDbOAJ"
      }
    },
    {
      "cell_type": "markdown",
      "source": [
        "## Respota"
      ],
      "metadata": {
        "id": "OK-ILTUGbTHY"
      }
    },
    {
      "cell_type": "code",
      "source": [
        "def ultimoElementoLista2D(lista:list) -> list:\n",
        "  # Inverte todas as sub listas\n",
        "  lista_rev = [sub_lista[::-1] for sub_lista in lista]\n",
        "  # Cria uma lista com o n-ésimo elemento de cada sub lista\n",
        "  lista_zip = list( zip(*lista_rev) )\n",
        "  # Acessa o primeiro elemento, que contém os últimos,\n",
        "  # já que a lista foi invertida\n",
        "  ultimo = list( lista_zip[0] )\n",
        "\n",
        "  return ultimo"
      ],
      "metadata": {
        "id": "F-_y1YKhbUaU"
      },
      "execution_count": 57,
      "outputs": []
    },
    {
      "cell_type": "markdown",
      "source": [
        "## Testes"
      ],
      "metadata": {
        "id": "q8TF4yQdfejX"
      }
    },
    {
      "cell_type": "code",
      "source": [
        "input1 = [\n",
        "          [192, 193, 194],\n",
        "          [507, 508, 509],\n",
        "          [526, 527, 528, 529],\n",
        "          [560, 561],\n",
        "          [635, 636, 637] ]\n",
        "\n",
        "ultimoElementoLista2D(input1)"
      ],
      "metadata": {
        "colab": {
          "base_uri": "https://localhost:8080/"
        },
        "id": "vRcIdEiWfgre",
        "outputId": "a6eedd03-a000-46df-fb2b-82b9cd3baae9"
      },
      "execution_count": 58,
      "outputs": [
        {
          "output_type": "execute_result",
          "data": {
            "text/plain": [
              "[194, 509, 529, 561, 637]"
            ]
          },
          "metadata": {},
          "execution_count": 58
        }
      ]
    },
    {
      "cell_type": "code",
      "source": [
        "input2 = [\n",
        "          [192, 193, 194, 195, 196, 197, 198, 199, 200],\n",
        "          [507, 508, 509],\n",
        "          [526, 527, 528, 529],\n",
        "          [560, 561],\n",
        "          [635, 636, 637] ]\n",
        "\n",
        "ultimoElementoLista2D(input2)"
      ],
      "metadata": {
        "colab": {
          "base_uri": "https://localhost:8080/"
        },
        "id": "e5FudGdaf4xX",
        "outputId": "773e9b2f-0d3c-4fec-9952-a1b7b8998e74"
      },
      "execution_count": 59,
      "outputs": [
        {
          "output_type": "execute_result",
          "data": {
            "text/plain": [
              "[200, 509, 529, 561, 637]"
            ]
          },
          "metadata": {},
          "execution_count": 59
        }
      ]
    },
    {
      "cell_type": "code",
      "source": [
        "input3 = [\n",
        "          [507, 508, 509],\n",
        "          [526, 527, 528, 529],\n",
        "          [560, 561],\n",
        "          [635, 636, 637] ]\n",
        "\n",
        "ultimoElementoLista2D(input3)"
      ],
      "metadata": {
        "colab": {
          "base_uri": "https://localhost:8080/"
        },
        "id": "0KDgbUPlcygk",
        "outputId": "c0cc15a5-f512-4793-c7e2-d9827ce1abe8"
      },
      "execution_count": 60,
      "outputs": [
        {
          "output_type": "execute_result",
          "data": {
            "text/plain": [
              "[509, 529, 561, 637]"
            ]
          },
          "metadata": {},
          "execution_count": 60
        }
      ]
    },
    {
      "cell_type": "markdown",
      "source": [
        "# Remover elementos de listas"
      ],
      "metadata": {
        "id": "yhjWb9QWgbuk"
      }
    },
    {
      "cell_type": "markdown",
      "source": [
        "Considere que uma empresa desenvolveu uma aplicação que solicita ao usuário uma dada informação, como, por exemplo, o segundo nome deste usuário. O programa recebe essa informação e armazena em uma lista de strings. Entretanto, caso um usuário acidentalmente não tenha preenchido esta informação, a lista conterá elementos vazios. Por exemplo, dada uma lista com 5 nomes:\n",
        "```\n",
        "listaDeNomes = ['Araújo', 'Alexandre', 'Silva', 'Flávio', '']\n",
        "```\n",
        "note que o último elemento da lista é apenas uma string vazia representada pelas aspas vazias.\n",
        "\n",
        "Sabendo disso, faça uma função removerElementosVazios() que recebe uma lista de nomes e retorna a lista sem os elementos vazios."
      ],
      "metadata": {
        "id": "mHMx3VwngblA"
      }
    },
    {
      "cell_type": "markdown",
      "source": [
        "## Resposta"
      ],
      "metadata": {
        "id": "nnGxYQhslxSk"
      }
    },
    {
      "cell_type": "code",
      "source": [
        "def removerElementosVazios(nomes:list) -> list:\n",
        "  nova_lista = [nome for nome in nomes if nome]\n",
        "  return nova_lista"
      ],
      "metadata": {
        "id": "4MPesrYNlygn"
      },
      "execution_count": 61,
      "outputs": []
    },
    {
      "cell_type": "markdown",
      "source": [
        "## Testes"
      ],
      "metadata": {
        "id": "Rpmbp4zxlyvq"
      }
    },
    {
      "cell_type": "code",
      "source": [
        "input1 = [\"\", \"\", \"Maria\", \"Coutinho\", \"\"]\n",
        "\n",
        "removerElementosVazios(input1)"
      ],
      "metadata": {
        "colab": {
          "base_uri": "https://localhost:8080/"
        },
        "id": "F1BiK1k4l0FK",
        "outputId": "8703d341-38ac-43fb-9f37-90e3b536f566"
      },
      "execution_count": 62,
      "outputs": [
        {
          "output_type": "execute_result",
          "data": {
            "text/plain": [
              "['Maria', 'Coutinho']"
            ]
          },
          "metadata": {},
          "execution_count": 62
        }
      ]
    },
    {
      "cell_type": "code",
      "source": [
        "input2 = [\"Alexandre\", \"Flávio\", \"Araújo\", \"\", \"Galindo\"]\n",
        "\n",
        "removerElementosVazios(input2)"
      ],
      "metadata": {
        "colab": {
          "base_uri": "https://localhost:8080/"
        },
        "id": "8ApRsdXIlz-K",
        "outputId": "330e50d7-632d-4395-f102-de8a661a6da9"
      },
      "execution_count": 63,
      "outputs": [
        {
          "output_type": "execute_result",
          "data": {
            "text/plain": [
              "['Alexandre', 'Flávio', 'Araújo', 'Galindo']"
            ]
          },
          "metadata": {},
          "execution_count": 63
        }
      ]
    },
    {
      "cell_type": "code",
      "source": [
        "input3 = [\"Bezerra\", \"Almeida\", \"\", \"\", \"\"]\n",
        "\n",
        "removerElementosVazios(input3)"
      ],
      "metadata": {
        "colab": {
          "base_uri": "https://localhost:8080/"
        },
        "id": "q5QZradZlzlc",
        "outputId": "dff3b0f5-3dfe-433e-bf31-56bd941e1ae3"
      },
      "execution_count": 64,
      "outputs": [
        {
          "output_type": "execute_result",
          "data": {
            "text/plain": [
              "['Bezerra', 'Almeida']"
            ]
          },
          "metadata": {},
          "execution_count": 64
        }
      ]
    },
    {
      "cell_type": "markdown",
      "source": [
        "# Adicionar elementos em listas"
      ],
      "metadata": {
        "id": "8au22sg2nOjo"
      }
    },
    {
      "cell_type": "markdown",
      "source": [
        "Quando utilizamos listas, uma das vantagens é que podemos adicionar novos elementos com o passar do tempo. Podemos inserir elementos tanto ao final da lista, como também em uma posição específica.\n",
        "\n",
        "Sabendo disso, faça uma função adicionarElemento() que recebe uma lista de números e insere o número inteiro 42 no meio da lista (isto é, em sua posição central). Note que a posição de inserção pode variar a depender da quantidade de elementos na lista original."
      ],
      "metadata": {
        "id": "O0kANxRnnO4y"
      }
    },
    {
      "cell_type": "markdown",
      "source": [
        "## Resposta"
      ],
      "metadata": {
        "id": "i-JSE33NnTRH"
      }
    },
    {
      "cell_type": "code",
      "source": [
        "def adicionarElemento(lista:list) -> list:\n",
        "  meio = int( len(lista) / 2 )\n",
        "  lista.insert(meio, 42)\n",
        "  return lista"
      ],
      "metadata": {
        "id": "yeiePLpRnTkp"
      },
      "execution_count": 71,
      "outputs": []
    },
    {
      "cell_type": "markdown",
      "source": [
        "## Testes"
      ],
      "metadata": {
        "id": "oqAzztzbnT3Z"
      }
    },
    {
      "cell_type": "code",
      "source": [
        "input1 = [44, 38, 38, 42, 4, 8, 33]\n",
        "\n",
        "adicionarElemento(input1)"
      ],
      "metadata": {
        "colab": {
          "base_uri": "https://localhost:8080/"
        },
        "id": "C-pXH9VPnUGh",
        "outputId": "3773d3e0-32a9-46e7-e9e3-e02e654992a3"
      },
      "execution_count": 72,
      "outputs": [
        {
          "output_type": "execute_result",
          "data": {
            "text/plain": [
              "[44, 38, 38, 42, 42, 4, 8, 33]"
            ]
          },
          "metadata": {},
          "execution_count": 72
        }
      ]
    },
    {
      "cell_type": "code",
      "source": [
        "input2 = [47, 29, 38, 36, 42, 45, 46, 45, 15, 14]\n",
        "\n",
        "adicionarElemento(input2)"
      ],
      "metadata": {
        "colab": {
          "base_uri": "https://localhost:8080/"
        },
        "id": "bU5vRGrsnUMI",
        "outputId": "16d4f940-870d-40a9-ef26-d370540e49e3"
      },
      "execution_count": 73,
      "outputs": [
        {
          "output_type": "execute_result",
          "data": {
            "text/plain": [
              "[47, 29, 38, 36, 42, 42, 45, 46, 45, 15, 14]"
            ]
          },
          "metadata": {},
          "execution_count": 73
        }
      ]
    },
    {
      "cell_type": "code",
      "source": [
        "input3 = [7, 42, 23, 8]\n",
        "\n",
        "adicionarElemento(input3)"
      ],
      "metadata": {
        "colab": {
          "base_uri": "https://localhost:8080/"
        },
        "id": "SJPQ-wHfnUXX",
        "outputId": "61787b70-63cd-4baa-c80c-1b6e250cd765"
      },
      "execution_count": 74,
      "outputs": [
        {
          "output_type": "execute_result",
          "data": {
            "text/plain": [
              "[7, 42, 42, 23, 8]"
            ]
          },
          "metadata": {},
          "execution_count": 74
        }
      ]
    }
  ]
}