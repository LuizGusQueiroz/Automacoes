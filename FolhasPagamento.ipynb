{
  "nbformat": 4,
  "nbformat_minor": 0,
  "metadata": {
    "colab": {
      "provenance": [],
      "authorship_tag": "ABX9TyMyEgiuYpW/2MYDU86uBtwh",
      "include_colab_link": true
    },
    "kernelspec": {
      "name": "python3",
      "display_name": "Python 3"
    },
    "language_info": {
      "name": "python"
    }
  },
  "cells": [
    {
      "cell_type": "markdown",
      "metadata": {
        "id": "view-in-github",
        "colab_type": "text"
      },
      "source": [
        "<a href=\"https://colab.research.google.com/github/LuizGusQueiroz/Projetos_Estagio/blob/main/FolhasPagamento.ipynb\" target=\"_parent\"><img src=\"https://colab.research.google.com/assets/colab-badge.svg\" alt=\"Open In Colab\"/></a>"
      ]
    },
    {
      "cell_type": "markdown",
      "source": [
        "# Configuração do ambiente"
      ],
      "metadata": {
        "id": "ma-LWur2iiDF"
      }
    },
    {
      "cell_type": "code",
      "execution_count": 1,
      "metadata": {
        "colab": {
          "base_uri": "https://localhost:8080/"
        },
        "id": "o74ocwqAiWBv",
        "outputId": "28aec1e6-39b9-4ade-ef87-b8357049420b"
      },
      "outputs": [
        {
          "output_type": "stream",
          "name": "stdout",
          "text": [
            "Mounted at /content/drive\n"
          ]
        }
      ],
      "source": [
        "from google.colab import drive\n",
        "drive.mount('/content/drive')"
      ]
    },
    {
      "cell_type": "code",
      "source": [
        "import pandas as pd\n",
        "import html\n",
        "import os\n",
        "import re\n",
        "from tqdm import tqdm"
      ],
      "metadata": {
        "id": "NC8Iy5QJiecN"
      },
      "execution_count": 1,
      "outputs": []
    },
    {
      "cell_type": "markdown",
      "source": [
        "# Pré Processamento"
      ],
      "metadata": {
        "id": "e-vIpqL_ioSk"
      }
    },
    {
      "cell_type": "code",
      "source": [
        "def clean_html(arq_html):\n",
        "  # Salva apenas as linhas que tem 'class'\n",
        "  # e aplica a formatação para adicionar acentos\n",
        "  arq_html = [html.unescape(row) for row in arq_html if 'class' in row]\n",
        "  # Remove as divs\n",
        "  for i, row in enumerate(arq_html):\n",
        "    pattern = r'<[^>]*>'\n",
        "    new_row = re.sub(pattern, '', row)\n",
        "    arq_html[i] = new_row\n",
        "\n",
        "  return arq_html"
      ],
      "metadata": {
        "id": "hlLOG500mtqn"
      },
      "execution_count": 68,
      "outputs": []
    },
    {
      "cell_type": "code",
      "source": [
        "def get_registros_from_html(path, nome_arq='FolhaPagamento'):\n",
        "\n",
        "  # Abre o arquivo html\n",
        "  with open(path, 'r') as file:\n",
        "    arq_html = file.read()\n",
        "  arq_html = arq_html.split('\\n')\n",
        "\n",
        "  # Aplica uma função limpa o arquivo\n",
        "  arq_html = clean_html(arq_html)\n",
        "\n",
        "  # Declaração de variáveis\n",
        "  columns = ['Competência','Empregador','Código_Empregado','Nome_Empregado','Cargo','Lotação','Código_Evento','Desc_Evento','Provento','Desconto']\n",
        "  registros = pd.DataFrame(columns=columns)\n",
        "  competencia = str()\n",
        "  empregador = str()\n",
        "  codigo_emp = str()\n",
        "  nome_emp = str()\n",
        "  lotacao = str()\n",
        "  cargo = str()\n",
        "\n",
        "  # Total de empregados que serão coletados:\n",
        "  total_func = 0\n",
        "  for row in arq_html:\n",
        "    if row == 'Data e Assinatura':\n",
        "      total_func += 1\n",
        "\n",
        "  # A variável start define o começo dos dados de cada empregado\n",
        "  start = 0\n",
        "\n",
        "  for _ in range(total_func):\n",
        "\n",
        "    # A coleta destas informações não é feita por uso de um 'for'\n",
        "    # pois a depender da empresa, alguma informação pode mudar\n",
        "    # de posição\n",
        "\n",
        "    # Encontra a competência\n",
        "    for i, row in enumerate(arq_html[start:], start=start):\n",
        "      if row == 'Competência':\n",
        "        # A competência está uma linha após esta palavra\n",
        "        competencia = arq_html[i+1]\n",
        "        break\n",
        "    # Encontra o empregador\n",
        "    for i, row in enumerate(arq_html[start:], start=start):\n",
        "      if row ==  'Empregador':\n",
        "        # O empregador está uma linha após a palavra\n",
        "        empregador = arq_html[i+1]\n",
        "        break\n",
        "    # Encontra a lotação\n",
        "    for i, row in enumerate(arq_html[start:], start=start):\n",
        "      if row == 'Lotação':\n",
        "        # A lotação está uma linha após a palavra\n",
        "        lotacao = arq_html[i+1]\n",
        "        break\n",
        "    # Encontra o cargo\n",
        "    for i, row in enumerate(arq_html[start:], start=start):\n",
        "      if row == 'Cargo':\n",
        "        # O cargo está uma linha após a palavra\n",
        "        cargo = arq_html[i+1]\n",
        "        break\n",
        "    # Encontra o código e nome do empregado\n",
        "    for i, row in enumerate(arq_html[start:], start=start):\n",
        "      if row == 'Empregado':\n",
        "        # O código e nome estão uma linha após a palavra\n",
        "        cod_e_nome = arq_html[i+1].split()\n",
        "        codigo_emp = cod_e_nome[0]\n",
        "        nome_emp = ' '.join(cod_e_nome[1:])\n",
        "        break\n",
        "    # Guarda os eventos do funcionário\n",
        "    index = 0\n",
        "    eventos = list()\n",
        "    registro = list()\n",
        "\n",
        "    for i, row in enumerate(arq_html[start:], start=start):\n",
        "      # Os proventos começam após a linha com 'Cod.'\n",
        "      if row == 'Cod.':\n",
        "        index = i+1\n",
        "        break\n",
        "\n",
        "\n",
        "    while arq_html[index] != 'Total de Proventos':\n",
        "      registro.append(arq_html[index])\n",
        "      index += 1\n",
        "\n",
        "      if len(registro) == 5:\n",
        "        # Verifica se o código é não nulo\n",
        "        if arq_html[index-1]:\n",
        "          eventos.append(registro)\n",
        "          registro = list()\n",
        "        # Caso seja nulo, os eventos acabaram\n",
        "        else:\n",
        "          break\n",
        "\n",
        "    # Converte a lista de eventos para DataFrame\n",
        "    eventos = pd.DataFrame(eventos)\n",
        "    # Pode acontecer de aparecer um funcionário sem registros\n",
        "    # caso esteja afastado, então será ignorado\n",
        "    if not eventos.empty:\n",
        "      # Larga a coluna com as referências\n",
        "      eventos = eventos.drop(2, axis='columns')\n",
        "      # Inverte a ordem as colunas\n",
        "      eventos = eventos[eventos.columns[::-1]]\n",
        "      # Atualiza o nome das colunas\n",
        "      eventos.columns = ['Código', 'Descrição', 'Proventos', 'Descontos']\n",
        "\n",
        "\n",
        "    for i in range(eventos.shape[0]):\n",
        "      # Cria uma lista com todos os dados do registro\n",
        "      registro = [competencia, empregador, codigo_emp, nome_emp, cargo, lotacao]\n",
        "      registro.extend([eventos['Código'].iloc[i], eventos['Descrição'].iloc[i], eventos['Proventos'].iloc[i], eventos['Descontos'].iloc[i]])\n",
        "      # Adiciona uma nova linha na tabela de registros\n",
        "      index = len(registros)\n",
        "      registros.loc[index] = registro\n",
        "\n",
        "    # Encontra os dados do próximo funcionário\n",
        "    for i, row in enumerate(arq_html[start+1:], start=start+1):\n",
        "      if row == 'Data e Assinatura':\n",
        "        start = i\n",
        "        break\n",
        "\n",
        "  # Salva a tabela como xlsx\n",
        "  nome_arq = f'{nome_arq}.xlsx'\n",
        "  registros.to_excel(nome_arq, index=False)\n",
        "\n",
        "  #return registros\n",
        ""
      ],
      "metadata": {
        "id": "svTTedxIo_Gf"
      },
      "execution_count": 104,
      "outputs": []
    },
    {
      "cell_type": "markdown",
      "source": [
        "# Leitura do arquivo html"
      ],
      "metadata": {
        "id": "dE0TnrH52iXS"
      }
    },
    {
      "cell_type": "code",
      "source": [
        "# Lê todos os arquivos html e salva seus registros em .xlsx\n",
        "files = os.listdir()\n",
        "files = [file for file in files if '.html' in file]\n",
        "for arq in tqdm(files):\n",
        "  # Remove o '.html' do nome\n",
        "  nome = arq[:arq.find('.html')]\n",
        "  get_registros_from_html(arq, nome)"
      ],
      "metadata": {
        "colab": {
          "base_uri": "https://localhost:8080/"
        },
        "id": "Ipg4g4BYinis",
        "outputId": "c79987cc-b57b-49dc-ec42-d0d88e902fe9"
      },
      "execution_count": 103,
      "outputs": [
        {
          "output_type": "stream",
          "name": "stderr",
          "text": [
            "100%|██████████| 67/67 [03:09<00:00,  2.83s/it]\n"
          ]
        }
      ]
    },
    {
      "cell_type": "code",
      "source": [
        "# Lê todos os arquivos xlsx e junta seus registros\n",
        "df = pd.DataFrame()\n",
        "# Lista os arquivos .xlsx\n",
        "files = os.listdir()\n",
        "files = [file for file in files if '.xlsx' in file]\n",
        "\n",
        "for arq in tqdm(files):\n",
        "  # Salva os DataFrames temporários\n",
        "  df_temp = pd.read_excel(arq)\n",
        "  # Concatena os DataFrames\n",
        "  df = pd.concat([df, df_temp])\n",
        "\n",
        "df.to_excel('VIGON.xlsx', index=False)"
      ],
      "metadata": {
        "colab": {
          "base_uri": "https://localhost:8080/"
        },
        "id": "IHrlg4bp8L1P",
        "outputId": "f77f7818-59dc-4681-ae2f-d33a9f82bbef"
      },
      "execution_count": 105,
      "outputs": [
        {
          "output_type": "stream",
          "name": "stderr",
          "text": [
            "100%|██████████| 63/63 [00:18<00:00,  3.45it/s]\n"
          ]
        }
      ]
    },
    {
      "cell_type": "markdown",
      "source": [
        "# Limpa o ambiente"
      ],
      "metadata": {
        "id": "umuG0lnh9DTj"
      }
    },
    {
      "cell_type": "code",
      "source": [
        "def clear(html=True, xlsx=True):\n",
        "  files = os.listdir()\n",
        "\n",
        "  if html:\n",
        "    for file in files:\n",
        "      if '.html' in file:\n",
        "        os.remove(file)\n",
        "\n",
        "  if xlsx:\n",
        "    for file in files:\n",
        "      if '.xlsx' in file:\n",
        "        os.remove(file)"
      ],
      "metadata": {
        "id": "Z8FDJK1t9F6w"
      },
      "execution_count": 109,
      "outputs": []
    }
  ]
}