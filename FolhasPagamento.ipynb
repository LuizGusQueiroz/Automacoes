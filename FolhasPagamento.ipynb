{
  "nbformat": 4,
  "nbformat_minor": 0,
  "metadata": {
    "colab": {
      "provenance": [],
      "collapsed_sections": [
        "ma-LWur2iiDF"
      ],
      "authorship_tag": "ABX9TyMb5mi0D6QiA6cJXdAEgEK4"
    },
    "kernelspec": {
      "name": "python3",
      "display_name": "Python 3"
    },
    "language_info": {
      "name": "python"
    }
  },
  "cells": [
    {
      "cell_type": "markdown",
      "source": [
        "converte Folhas de pagamento recebidas em formato html para planilhas excell\n",
        "registrando cada evento como uma linha"
      ],
      "metadata": {
        "id": "1TChf45w0Arc"
      }
    },
    {
      "cell_type": "markdown",
      "source": [
        "# Configuração do ambiente"
      ],
      "metadata": {
        "id": "ma-LWur2iiDF"
      }
    },
    {
      "cell_type": "code",
      "execution_count": null,
      "metadata": {
        "colab": {
          "base_uri": "https://localhost:8080/"
        },
        "id": "o74ocwqAiWBv",
        "outputId": "28aec1e6-39b9-4ade-ef87-b8357049420b"
      },
      "outputs": [
        {
          "output_type": "stream",
          "name": "stdout",
          "text": [
            "Mounted at /content/drive\n"
          ]
        }
      ],
      "source": [
        "from google.colab import drive\n",
        "drive.mount('/content/drive')"
      ]
    },
    {
      "cell_type": "code",
      "source": [
        "import pandas as pd\n",
        "import html\n",
        "import os\n",
        "import re\n",
        "from tqdm import tqdm"
      ],
      "metadata": {
        "id": "NC8Iy5QJiecN"
      },
      "execution_count": null,
      "outputs": []
    },
    {
      "cell_type": "markdown",
      "source": [
        "# Pré Processamento"
      ],
      "metadata": {
        "id": "e-vIpqL_ioSk"
      }
    },
    {
      "cell_type": "code",
      "source": [
        "def clean_html(arq_html):\n",
        "  # Salva apenas as linhas que tem 'class'\n",
        "  # e aplica a formatação para adicionar acentos\n",
        "  arq_html = [html.unescape(row) for row in arq_html if 'class' in row or 'CLASS' in row]\n",
        "  # Remove as divs\n",
        "  for i, row in enumerate(arq_html):\n",
        "    pattern = r'<[^>]*>'\n",
        "    new_row = re.sub(pattern, '', row)\n",
        "    new_row = new_row.replace('\\xa0', ' ')\n",
        "    arq_html[i] = new_row\n",
        "\n",
        "  return arq_html"
      ],
      "metadata": {
        "id": "hlLOG500mtqn"
      },
      "execution_count": null,
      "outputs": []
    },
    {
      "cell_type": "code",
      "source": [
        "# Esté método funciona para folhas de pagamento das empresas dos grupos:\n",
        "# CERUS, FIBRA, GA, GESTART, HISEG, PATRIMONIAIS, PRIMEE, UNICA e VIGON\n",
        "def get_registros_from_html(path, nome_arq='FolhaPagamento'):\n",
        "\n",
        "  # Abre o arquivo html\n",
        "  with open(path, 'r', encoding='latin-1') as file:\n",
        "    arq_html = file.read()\n",
        "  arq_html = arq_html.split('\\n')\n",
        "\n",
        "  # Remove informações desnecessárias do arquivo\n",
        "  arq_html = clean_html(arq_html)\n",
        "\n",
        "  # Declaração de variáveis\n",
        "  columns = ['Competência','Empregador','Código_Empregado','Nome_Empregado','Cargo','Lotação','Código_Evento','Desc_Evento','Provento','Desconto']\n",
        "  registros = pd.DataFrame(columns=columns)\n",
        "  competencia = str()\n",
        "  empregador = str()\n",
        "  codigo_emp = str()\n",
        "  nome_emp = str()\n",
        "  lotacao = str()\n",
        "  cargo = str()\n",
        "\n",
        "  # Total de empregados que serão coletados:\n",
        "  total_func = 0\n",
        "  for row in arq_html:\n",
        "    if row == 'Data e Assinatura':\n",
        "      total_func += 1\n",
        "\n",
        "  # A variável start define o começo dos dados de cada empregado\n",
        "  start = 0\n",
        "\n",
        "  for _ in range(total_func):\n",
        "\n",
        "    # A coleta destas informações não é feita por uso de um 'for'\n",
        "    # pois a depender da empresa, alguma informação pode mudar\n",
        "    # de posição\n",
        "\n",
        "    # Encontra a competência\n",
        "    for i, row in enumerate(arq_html[start:], start=start):\n",
        "      if row == 'Competência':\n",
        "        # A competência está uma linha após esta palavra\n",
        "        competencia = arq_html[i+1]\n",
        "        break\n",
        "    # Encontra o empregador\n",
        "    for i, row in enumerate(arq_html[start:], start=start):\n",
        "      if row ==  'Empregador':\n",
        "        # O empregador está uma linha após a palavra\n",
        "        empregador = arq_html[i+1]\n",
        "        break\n",
        "    # Encontra a lotação\n",
        "    for i, row in enumerate(arq_html[start:], start=start):\n",
        "      if row == 'Lotação':\n",
        "        # A lotação está uma linha após a palavra\n",
        "        lotacao = arq_html[i+1]\n",
        "        break\n",
        "    # Encontra o cargo\n",
        "    for i, row in enumerate(arq_html[start:], start=start):\n",
        "      if row == 'Cargo':\n",
        "        # O cargo está uma linha após a palavra\n",
        "        cargo = arq_html[i+1]\n",
        "        break\n",
        "    # Encontra o código e nome do empregado\n",
        "    for i, row in enumerate(arq_html[start:], start=start):\n",
        "      if row == 'Empregado':\n",
        "        # O código e nome estão uma linha após a palavra\n",
        "        cod_e_nome = arq_html[i+1].split()\n",
        "        codigo_emp = cod_e_nome[0]\n",
        "        nome_emp = ' '.join(cod_e_nome[1:])\n",
        "        break\n",
        "    # Guarda os eventos do funcionário\n",
        "    index = 0\n",
        "    eventos = list()\n",
        "    registro = list()\n",
        "\n",
        "    for i, row in enumerate(arq_html[start:], start=start):\n",
        "      # Os proventos começam após a linha com 'Cod.'\n",
        "      if row == 'Cod.':\n",
        "        index = i+1\n",
        "        break\n",
        "\n",
        "\n",
        "    while arq_html[index] != 'Total de Proventos':\n",
        "      registro.append(arq_html[index])\n",
        "      index += 1\n",
        "\n",
        "      if len(registro) == 5:\n",
        "        # Verifica se o código é não nulo\n",
        "        if arq_html[index-1]:\n",
        "          eventos.append(registro)\n",
        "          registro = list()\n",
        "        # Caso seja nulo, os eventos acabaram\n",
        "        else:\n",
        "          break\n",
        "\n",
        "    # Converte a lista de eventos para DataFrame\n",
        "    eventos = pd.DataFrame(eventos)\n",
        "    # Pode acontecer de aparecer um funcionário sem registros\n",
        "    # caso esteja afastado, então será ignorado\n",
        "    if not eventos.empty:\n",
        "      # Larga a coluna com as referências\n",
        "      eventos = eventos.drop(2, axis='columns')\n",
        "      # Inverte a ordem as colunas\n",
        "      eventos = eventos[eventos.columns[::-1]]\n",
        "      # Atualiza o nome das colunas\n",
        "      eventos.columns = ['Código', 'Descrição', 'Proventos', 'Descontos']\n",
        "\n",
        "\n",
        "    for i in range(eventos.shape[0]):\n",
        "      # Cria uma lista com todos os dados do registro\n",
        "      registro = [competencia, empregador, codigo_emp, nome_emp, cargo, lotacao]\n",
        "      registro.extend([eventos['Código'].iloc[i], eventos['Descrição'].iloc[i], eventos['Proventos'].iloc[i], eventos['Descontos'].iloc[i]])\n",
        "      # Adiciona uma nova linha na tabela de registros\n",
        "      index = len(registros)\n",
        "      registros.loc[index] = registro\n",
        "\n",
        "    # Encontra os dados do próximo funcionário\n",
        "    for i, row in enumerate(arq_html[start+1:], start=start+1):\n",
        "      if row == 'Data e Assinatura':\n",
        "        start = i\n",
        "        break\n",
        "\n",
        "  # Salva a tabela como xlsx\n",
        "  nome_arq = f'{nome_arq}.xlsx'\n",
        "  registros.to_excel(nome_arq, index=False)\n",
        "\n",
        "  #return registros\n"
      ],
      "metadata": {
        "id": "svTTedxIo_Gf"
      },
      "execution_count": null,
      "outputs": []
    },
    {
      "cell_type": "code",
      "source": [
        "# Atualiza alguns códigos para evitar conflitos\n",
        "# Nem sempre é necessário\n",
        "def update_cods(df):\n",
        "  # Relação de códigos antigos e novos\n",
        "  novo = {\n",
        "      '350': '99A',\n",
        "      '388': '99B'\n",
        "  }\n",
        "\n",
        "  for i in range(df.shape[0]):\n",
        "    # É convertido para string pois alguns vem como int\n",
        "    codigo = str(df['Código_Evento'].iloc[i])\n",
        "    if codigo in novo:\n",
        "      df.loc[i, 'Código_Evento'] = novo[codigo]\n",
        "\n",
        "  return df"
      ],
      "metadata": {
        "id": "jFMmEhTDKle6"
      },
      "execution_count": null,
      "outputs": []
    },
    {
      "cell_type": "code",
      "source": [
        "# Este método serve para as folhas do grupo CONDONAL\n",
        "def get_registros_from_html_condonal(path, nome_arq='FolhaPagamento'):\n",
        "\n",
        "  # Abre o arquivo html\n",
        "  with open(path, 'r', encoding='latin-1') as file:\n",
        "    arq_html = file.read()\n",
        "  arq_html = arq_html.split('\\n')\n",
        "\n",
        "  # Remove informações desnecessárias do arquivo\n",
        "  arq_html = clean_html(arq_html)\n",
        "\n",
        "\n",
        "  # Declaração de variáveis\n",
        "  columns = ['Competência','Empregador','Código_Empregado','Nome_Empregado','Cargo','Lotação','Código_Evento','Desc_Evento','Provento','Desconto']\n",
        "  registros = pd.DataFrame(columns=columns)\n",
        "  competencia = str()\n",
        "  empregador = str()\n",
        "  codigo_emp = str()\n",
        "  nome_emp = str()\n",
        "  lotacao = str()\n",
        "  cargo = str()\n",
        "\n",
        "  # Total de empregados que serão coletados:\n",
        "  total_func = 0\n",
        "  for row in arq_html:\n",
        "    if row == 'EMPRESA':\n",
        "      total_func += 1\n",
        "\n",
        "  # A variável start define o começo dos dados de cada empregado\n",
        "  start = 0\n",
        "\n",
        "  for _ in range(total_func):\n",
        "\n",
        "    # Encontra o empregador e a lotação\n",
        "    for i, row in enumerate(arq_html[start:], start=start):\n",
        "      if row == 'EMPRESA':\n",
        "        empregador = arq_html[i+6]\n",
        "        lotacao = arq_html[i+8]\n",
        "        break\n",
        "\n",
        "    # Encontra a competência\n",
        "    for i, row in enumerate(arq_html[start:], start=start):\n",
        "      if row == 'SEQUÊNCIA':\n",
        "        codigo_emp = arq_html[i+1]\n",
        "        nome_emp = arq_html[i+2]\n",
        "        cargo = arq_html[i+4]\n",
        "        competencia = arq_html[i+17]+arq_html[i+18]+arq_html[i+19]\n",
        "        competencia = get_date(competencia)\n",
        "        break\n",
        "\n",
        "\n",
        "    # Guarda os eventos do funcionário\n",
        "    index = 0\n",
        "    eventos = list()\n",
        "    registro = list()\n",
        "\n",
        "    for i, row in enumerate(arq_html[start:], start=start):\n",
        "      # Os proventos começam após a linha com 'BATIDAS'\n",
        "      if row == 'BATIDAS':\n",
        "        index = i+1\n",
        "        break\n",
        "\n",
        "    # Não há nenhuma palavra chave que indique o fim dos eventos\n",
        "    # o fim dos eventos é seguido por uma série de linhas em branco\n",
        "    # então é feita uma verificação das linhas em branco, se chegar\n",
        "    # em 15, a coleta é encerrada\n",
        "    count_nuls = 0\n",
        "    while count_nuls < 15:\n",
        "      registro.append(arq_html[index])\n",
        "      index += 1\n",
        "      if len(registro) == 14:\n",
        "        eventos.append(registro)\n",
        "        registro = list()\n",
        "      # Contagem linhas em branco\n",
        "      if arq_html[index]:\n",
        "        count_nuls = 0\n",
        "      else:\n",
        "        count_nuls += 1\n",
        "\n",
        "    # Converte a lista de eventos para DataFrame\n",
        "    eventos = pd.DataFrame(eventos)\n",
        "    # Pode acontecer de aparecer um funcionário sem registros\n",
        "    # caso esteja afastado, então será ignorado\n",
        "    if not eventos.empty:\n",
        "      # Guarda apenas as colunas necessárias\n",
        "      eventos = eventos[[3, 5, 9, 11]]\n",
        "      # Atualiza o nome das colunas\n",
        "      eventos.columns = ['Código', 'Descrição', 'Proventos', 'Descontos']\n",
        "\n",
        "    for i in range(eventos.shape[0]):\n",
        "      # Cria uma lista com todos os dados do registro\n",
        "      registro = [competencia, empregador, codigo_emp, nome_emp, cargo, lotacao]\n",
        "      registro.extend([eventos['Código'].iloc[i], eventos['Descrição'].iloc[i], eventos['Proventos'].iloc[i], eventos['Descontos'].iloc[i]])\n",
        "      # Adiciona uma nova linha na tabela de registros\n",
        "      index = len(registros)\n",
        "      registros.loc[index] = registro\n",
        "\n",
        "    # Encontra os dados do próximo funcionário\n",
        "    for i, row in enumerate(arq_html[start+1:], start=start+1):\n",
        "      if row == 'EMPRESA':\n",
        "        start = i\n",
        "        break\n",
        "\n",
        "  # Salva a tabela como xlsx\n",
        "  nome_arq = f'{nome_arq}.xlsx'\n",
        "  registros.to_excel(nome_arq, index=False)\n",
        "\n",
        "  #return registros"
      ],
      "metadata": {
        "id": "iSgD00BeBmPx"
      },
      "execution_count": null,
      "outputs": []
    },
    {
      "cell_type": "code",
      "source": [
        "def get_date(row):\n",
        "  correspondencia = {\n",
        "      '01/2023':   'Janeiro de 2023',\n",
        "      '02/2023': 'Fevereiro de 2023',\n",
        "      '03/2023':     'Março de 2023',\n",
        "      '04/2023':     'Abril de 2023',\n",
        "      '05/2023':      'Maio de 2023',\n",
        "      '06/2023':     'Junho de 2023',\n",
        "      '07/2023':     'Julho de 2023',\n",
        "      '08/2023':    'Agosto de 2023',\n",
        "      '09/2023':  'Setembro de 2023',\n",
        "      '10/2023':   'Outubro de 2023',\n",
        "      '11/2023':  'Novembro de 2023',\n",
        "      '12/2023':  'Dezembro de 2023'\n",
        "  }\n",
        "\n",
        "  return correspondencia[row]"
      ],
      "metadata": {
        "id": "RePzNshYUlNd"
      },
      "execution_count": null,
      "outputs": []
    },
    {
      "cell_type": "code",
      "source": [
        "# Este método lê os registros de folhas de pagamento de arquivos excel\n",
        "# As empresas do grupo FIBRA entregam neste formato\n",
        "def get_data_from_xlsx(path, competencia, empregador, start, end, indice):\n",
        "  data = pd.DataFrame(columns=['Competência',\t'Empregador',\t'Código_Empregado',\t'Nome_Empregado',\t'Cargo',\t'Lotação',\t'Código_Evento',\t'Desc_Evento',\t'Provento',\t'Desconto'])\n",
        "\n",
        "  columns = ['Numero', 'Nome', 'Jorn.', 'Cargo', 'Admissão', 'SF', 'IR']\n",
        "  nrows = end - start + 2\n",
        "  arq = pd.read_excel(path, skiprows=start, nrows=nrows).fillna('')\n",
        "  arq.columns = columns\n",
        "\n",
        "  nome = str()\n",
        "  codigo = str()\n",
        "  cargo = str()\n",
        "  index = 1\n",
        "  registro = list()\n",
        "\n",
        "  lotacao = arq['Numero'].iloc[0]\n",
        "  # Percorre todos os usuários, o fim dos dados de cada usuários\n",
        "  # é seguido do código do próximo\n",
        "  while arq['Numero'].iloc[index].isnumeric():\n",
        "    eventos = pd.DataFrame(columns=['Código', 'Descrição', 'Provento', 'Desconto'])\n",
        "\n",
        "    codigo = arq['Numero'].iloc[index]\n",
        "    nome = arq['Nome'].iloc[index]\n",
        "    cargo = arq['Cargo'].iloc[index]\n",
        "    # Encontra o começo dos eventos\n",
        "    for i in range(index, nrows):\n",
        "      if arq['Numero'].iloc[i] == 'Eventos':\n",
        "        index = i+1\n",
        "        break\n",
        "\n",
        "    # Este while coleta todos os eventos\n",
        "    # Os eventos são encerrados pela palavra 'Totais'\n",
        "    while arq['Numero'].iloc[index] != 'Totais':\n",
        "      registro = list()\n",
        "      # Codigo evento\n",
        "      registro.append(arq['Numero'].iloc[index])\n",
        "      # Descrição\n",
        "      registro.append(arq['Nome'].iloc[index])\n",
        "      # Provento\n",
        "      registro.append(arq['Admissão'].iloc[index])\n",
        "      # Desconto\n",
        "      registro.append(arq['SF'].iloc[index])\n",
        "\n",
        "      eventos.loc[len(eventos)] = registro\n",
        "      index += 1\n",
        "    index += 1\n",
        "\n",
        "    #Para cada linha de eventos, cria um registro completo\n",
        "    for i in range(eventos.shape[0]):\n",
        "      registro = [competencia, empregador, codigo, nome, cargo, lotacao]\n",
        "      registro.extend([eventos['Código'].iloc[i], eventos['Descrição'].iloc[i], eventos['Provento'].iloc[i], eventos['Desconto'].iloc[i]])\n",
        "\n",
        "      data.loc[len(data)] = registro\n",
        "  nome_arq = f'folha_parte_{indice:04}.xlsx'\n",
        "  data.to_excel(nome_arq, index=False)\n",
        "\n",
        "  #return data"
      ],
      "metadata": {
        "id": "Lj1aOTepmrf6"
      },
      "execution_count": 177,
      "outputs": []
    },
    {
      "cell_type": "code",
      "source": [
        "# Limpa os arquivos no diretório\n",
        "def clear(html=True, xlsx=True):\n",
        "  files = os.listdir()\n",
        "\n",
        "  if html:\n",
        "    for file in files:\n",
        "      if '.html' in file or '.HTML' in file:\n",
        "        os.remove(file)\n",
        "\n",
        "  if xlsx:\n",
        "    for file in files:\n",
        "      if '.xlsx' in file:\n",
        "        os.remove(file)"
      ],
      "metadata": {
        "id": "Z8FDJK1t9F6w"
      },
      "execution_count": null,
      "outputs": []
    },
    {
      "cell_type": "markdown",
      "source": [
        "# Leitura do arquivo html"
      ],
      "metadata": {
        "id": "dE0TnrH52iXS"
      }
    },
    {
      "cell_type": "code",
      "source": [
        "# Lê todos os arquivos html e salva seus registros em .xlsx\n",
        "files = os.listdir()\n",
        "files = [file for file in files if '.html' in file]\n",
        "for arq in tqdm(files):\n",
        "  # Remove o '.html' do nome\n",
        "  nome = arq[:arq.find('.html')]\n",
        "  get_registros_from_html(arq, nome)"
      ],
      "metadata": {
        "colab": {
          "base_uri": "https://localhost:8080/"
        },
        "id": "Ipg4g4BYinis",
        "outputId": "2c917611-916c-42b2-d9b8-8f9e53901573"
      },
      "execution_count": null,
      "outputs": [
        {
          "output_type": "stream",
          "name": "stderr",
          "text": [
            "100%|██████████| 1/1 [00:02<00:00,  2.74s/it]\n"
          ]
        }
      ]
    },
    {
      "cell_type": "code",
      "source": [
        "files = os.listdir()\n",
        "files = [file for file in files if '.HTML' in file]\n",
        "for arq in tqdm(files):\n",
        "  nome = arq[:arq.find('.html')]\n",
        "  get_registros_from_html_condonal(arq, nome)"
      ],
      "metadata": {
        "id": "38WYtlEtV1AW",
        "colab": {
          "base_uri": "https://localhost:8080/"
        },
        "outputId": "f7275306-9db0-4b87-fda3-59f36fffc444"
      },
      "execution_count": null,
      "outputs": [
        {
          "output_type": "stream",
          "name": "stderr",
          "text": [
            "100%|██████████| 11/11 [21:52<00:00, 119.32s/it]\n"
          ]
        }
      ]
    },
    {
      "cell_type": "code",
      "source": [
        "# Lê todos os arquivos xlsx e junta seus registros\n",
        "# Lista os arquivos .xlsx\n",
        "files = os.listdir()\n",
        "files = [file for file in files if '.xlsx' in file]\n",
        "\n",
        "df = pd.DataFrame()\n",
        "\n",
        "for arq in tqdm(files):\n",
        "  # Salva os DataFrames temporários\n",
        "  df_temp = pd.read_excel(arq)\n",
        "  # Concatena os DataFrames\n",
        "  df = pd.concat([df, df_temp])\n",
        "\n",
        "df.to_excel('Folha_GERAL.xlsx', index=False)"
      ],
      "metadata": {
        "colab": {
          "base_uri": "https://localhost:8080/"
        },
        "id": "IHrlg4bp8L1P",
        "outputId": "ffe5f947-d9d1-4f76-cfa6-379de20ec70a"
      },
      "execution_count": 176,
      "outputs": [
        {
          "output_type": "stream",
          "name": "stderr",
          "text": [
            "100%|██████████| 2/2 [02:08<00:00, 64.11s/it]\n"
          ]
        }
      ]
    },
    {
      "cell_type": "markdown",
      "source": [
        "# _"
      ],
      "metadata": {
        "id": "uliZebTGOULm"
      }
    },
    {
      "cell_type": "code",
      "source": [
        "clear()"
      ],
      "metadata": {
        "id": "lmOVRL_H9_WF"
      },
      "execution_count": 178,
      "outputs": []
    }
  ]
}