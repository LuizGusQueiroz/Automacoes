{
  "nbformat": 4,
  "nbformat_minor": 0,
  "metadata": {
    "colab": {
      "provenance": [],
      "authorship_tag": "ABX9TyOsNVhUjMPQyYPsHmbW+qJx"
    },
    "kernelspec": {
      "name": "python3",
      "display_name": "Python 3"
    },
    "language_info": {
      "name": "python"
    }
  },
  "cells": [
    {
      "cell_type": "markdown",
      "source": [
        "# Configuração do Ambiente"
      ],
      "metadata": {
        "id": "iNO_8Z68MGZ7"
      }
    },
    {
      "cell_type": "code",
      "execution_count": null,
      "metadata": {
        "id": "zT_GIcpwP72A"
      },
      "outputs": [],
      "source": [
        "import pandas as pd\n",
        "import os\n",
        "from tqdm import tqdm"
      ]
    },
    {
      "cell_type": "markdown",
      "source": [
        "# Pré-Processamento"
      ],
      "metadata": {
        "id": "5zNLSdx3MJHL"
      }
    },
    {
      "cell_type": "code",
      "source": [
        "def get_tipos(path):\n",
        "  # Leitura do arquivo\n",
        "  folha = pd.read_excel(path).fillna('')\n",
        "  # Na terceira linha há os nomes de cada coluna\n",
        "  folha.columns = folha.iloc[2].tolist()\n",
        "  # Removendo  linhas de cabeçalho\n",
        "  folha = folha.iloc[5:]\n",
        "  folha.reset_index(drop=True, inplace=True)\n",
        "  # Adicionando coluna de tipo\n",
        "  nulos = ['Nulo'] * folha.shape[0]\n",
        "  folha['Tipo'] = nulos\n",
        "  # Adiciona o nome da empresa:\n",
        "  # Os arquivos vem na forma 'Nome empresa competencia.xls'\n",
        "  # Ex: FIBRA NEGOCIOS 012023.xls\n",
        "  # Então será feito um split() e em seguida um ' '.join()\n",
        "  # Com todos os elementos menos o último (competencia)\n",
        "  nome_emp = ' '.join(path.split()[:-1])\n",
        "  nome_emp = [nome_emp] * folha.shape[0]\n",
        "  folha['Empresa'] = nome_emp\n",
        "\n",
        "  # Cada linha deve ter um valor apenas em provento ou em desconto\n",
        "  # então é feita a verificação de em qual coluna há um valor\n",
        "  # Em linhas que não há código nem descrição de eventos\n",
        "  # as duas colunas em questão estarão em branco\n",
        "  # É também feita uma verificação se há valores nas duas colunas\n",
        "  # para detecção de anomalias\n",
        "  for i in range(folha.shape[0]):\n",
        "\n",
        "    provento = folha.iloc[i]['Provento']\n",
        "    desconto = folha.iloc[i]['Desconto']\n",
        "\n",
        "    if provento and desconto:\n",
        "      folha.loc[i, 'Tipo'] = 'Anomalia'\n",
        "    elif provento:\n",
        "      folha.loc[i, 'Tipo'] = 'Provento'\n",
        "    elif desconto:\n",
        "      folha.loc[i, 'Tipo'] = 'Desconto'\n",
        "\n",
        "  # Filtra apenas os valores não nulos\n",
        "  folha = folha[folha['Tipo'] != 'Nulo']\n",
        "\n",
        "  # Guarda apenas as colunas desejadas\n",
        "  folha = folha[['Empresa', 'Evento', 'Descrição', 'Tipo']]\n",
        "\n",
        "  return folha"
      ],
      "metadata": {
        "id": "Q6ErDP21QJoi"
      },
      "execution_count": null,
      "outputs": []
    },
    {
      "cell_type": "markdown",
      "source": [
        "# Leitura dos Arquivos"
      ],
      "metadata": {
        "id": "9W8Yn2uCMOWo"
      }
    },
    {
      "cell_type": "code",
      "source": [
        "# Filtragem dos valores do tipo excel\n",
        "files = [arq for arq in os.listdir() if '.xls' in arq]\n",
        "files.sort()\n",
        "\n",
        "folha_total = pd.DataFrame()\n",
        "# Concatena folha por folha em uma única variável\n",
        "for arq in tqdm(files):\n",
        "  folha_temp = get_tipos(arq)\n",
        "  folha_total = pd.concat([folha_total, folha_temp])"
      ],
      "metadata": {
        "colab": {
          "base_uri": "https://localhost:8080/"
        },
        "id": "pzhYjFcNNdX9",
        "outputId": "6c6fa1b5-fb62-40dd-d5e4-0b7be7d47229"
      },
      "execution_count": null,
      "outputs": [
        {
          "output_type": "stream",
          "name": "stderr",
          "text": [
            "100%|██████████| 44/44 [00:01<00:00, 33.39it/s]\n"
          ]
        }
      ]
    },
    {
      "cell_type": "code",
      "source": [
        "folha_total.to_excel('Tipos_Eventos.xlsx', index=False)"
      ],
      "metadata": {
        "id": "cenzDNC8TADw"
      },
      "execution_count": null,
      "outputs": []
    }
  ]
}