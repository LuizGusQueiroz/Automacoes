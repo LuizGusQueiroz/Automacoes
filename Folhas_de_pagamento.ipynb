{
  "nbformat": 4,
  "nbformat_minor": 0,
  "metadata": {
    "colab": {
      "provenance": [],
      "collapsed_sections": [
        "IPcaajf2Icli"
      ],
      "authorship_tag": "ABX9TyOvYsEyij4Or71Z6i1iSYR8",
      "include_colab_link": true
    },
    "kernelspec": {
      "name": "python3",
      "display_name": "Python 3"
    },
    "language_info": {
      "name": "python"
    }
  },
  "cells": [
    {
      "cell_type": "markdown",
      "metadata": {
        "id": "view-in-github",
        "colab_type": "text"
      },
      "source": [
        "<a href=\"https://colab.research.google.com/github/LuizGusQueiroz/Projetos_Estagio/blob/main/Folhas_de_pagamento.ipynb\" target=\"_parent\"><img src=\"https://colab.research.google.com/assets/colab-badge.svg\" alt=\"Open In Colab\"/></a>"
      ]
    },
    {
      "cell_type": "markdown",
      "source": [
        "converte Folhas de pagamento recebidas em formato html para planilhas excell\n",
        "registrando cada evento como uma linha"
      ],
      "metadata": {
        "id": "2t6gY0M4lDfq"
      }
    },
    {
      "cell_type": "markdown",
      "source": [
        "# Configuração do Ambiente"
      ],
      "metadata": {
        "id": "IPcaajf2Icli"
      }
    },
    {
      "cell_type": "code",
      "execution_count": null,
      "metadata": {
        "colab": {
          "base_uri": "https://localhost:8080/"
        },
        "id": "CBcjhPqu6_A7",
        "outputId": "104879b6-8374-441c-8c72-509541840a38"
      },
      "outputs": [
        {
          "output_type": "stream",
          "name": "stdout",
          "text": [
            "Mounted at /content/drive\n"
          ]
        }
      ],
      "source": [
        "from google.colab import drive\n",
        "drive.mount('/content/drive')"
      ]
    },
    {
      "cell_type": "code",
      "source": [
        "import pandas as pd\n",
        "import html\n",
        "import os\n",
        "from tqdm import tqdm"
      ],
      "metadata": {
        "id": "Ao3hQQdsBrTz"
      },
      "execution_count": 348,
      "outputs": []
    },
    {
      "cell_type": "markdown",
      "source": [
        "# Processamento Folha de Pagamento"
      ],
      "metadata": {
        "id": "4eCYuGPlIsus"
      }
    },
    {
      "cell_type": "markdown",
      "source": [
        "## Arquivos html"
      ],
      "metadata": {
        "id": "9iQMM2UyRk6z"
      }
    },
    {
      "cell_type": "code",
      "source": [
        "# Retorna ou salva em um arquivo .xlsx todos os registros de eventos\n",
        "# da folha de pagamento recebida\n",
        "def get_data_from_html(arq_html, nome_arq=''):\n",
        "  start = 0\n",
        "  end = bool()\n",
        "  competencia    = str()\n",
        "  empregador     = str()\n",
        "  cod_empregado  = str()\n",
        "  nome_empregado = str()\n",
        "  cargo          = str()\n",
        "  lotacao        = str()\n",
        "\n",
        "  cols = ['Competência', 'Empregador', 'Código_Empregado', 'Nome_Empregado', 'Cargo', 'Lotação', 'Código_Evento', 'Desc_Evento', 'Provento', 'Desconto']\n",
        "  data = pd.DataFrame(columns=cols)\n",
        "\n",
        "  # Encontra a linha em que está a competência\n",
        "  for row in arq_html:\n",
        "    if 'de 2023' in row:\n",
        "      competencia = get_competencia(row) # posso usar o get_content\n",
        "      competencia = html.unescape(competencia)\n",
        "      break\n",
        "\n",
        "  # Encontra os dados de cada pessoa\n",
        "\n",
        "  while True:\n",
        "\n",
        "    # Encontra o empregador\n",
        "    end = True\n",
        "    for i, row in enumerate(arq_html[start:], start=start):\n",
        "      if 'Empregador' in row:\n",
        "        # Define onde irão começar os dados da pessoa\n",
        "        end = False\n",
        "        start = i\n",
        "        # O nome do empregador está 2 linhas abaixo\n",
        "        empregador = get_content(arq_html[i+2])\n",
        "        break\n",
        "\n",
        "    if end:\n",
        "      break\n",
        "\n",
        "    # Encontra o nome e código do empregado\n",
        "\n",
        "    for i, row in enumerate(arq_html[start+1:], start=start+1):\n",
        "      if 'Empregado' in row:\n",
        "        # O código e nome do empregado está uma linha\n",
        "        # abaixo da linha que tem 'Empregado'\n",
        "        # os dados estão na forma 'codigo nome'\n",
        "        dados_empregado = get_content(arq_html[i+1])\n",
        "        # Separa os dados\n",
        "        dados_split = dados_empregado.split()\n",
        "        # O primeiro valor é o código\n",
        "        cod_empregado = dados_split[0]\n",
        "        # Os seguintes são o nome\n",
        "        nome_empregado = ' '.join(dados_split[1:])\n",
        "        break\n",
        "\n",
        "    # Encontra o cargo\n",
        "\n",
        "    for i, row in enumerate(arq_html[start+1:], start=start+1):\n",
        "      if 'Cargo' in row:\n",
        "        # O cargo está duas linhas abaixo da\n",
        "        # linha que tem 'Cargo'\n",
        "        cargo = get_content(arq_html[i+2])\n",
        "        # Ajusta à formatação html\n",
        "        cargo = html.unescape(cargo)\n",
        "        break\n",
        "\n",
        "    # Encontra a lotação\n",
        "\n",
        "    for i, row in enumerate(arq_html[start+1:], start=start+1):\n",
        "      if 'Lota&ccedil;&atilde;o' in row:\n",
        "        lotacao = get_content(arq_html[i+2])\n",
        "        # Ajusta à formatação html\n",
        "        lotacao = html.unescape(lotacao)\n",
        "        break\n",
        "\n",
        "    # Guarda os eventos\n",
        "    iterador = 0\n",
        "    while True:\n",
        "      try:\n",
        "        eventos = get_eventos(arq_html, start, iterador)\n",
        "        break\n",
        "      except:\n",
        "        iterador +=1\n",
        "        if iterador == 10:\n",
        "          break\n",
        "\n",
        "    # Salva os registros por evento\n",
        "\n",
        "    for i in range(eventos.shape[0]):\n",
        "      registro = [competencia, empregador, cod_empregado, nome_empregado, cargo, lotacao]\n",
        "      if eventos['Código'].iloc[i]:\n",
        "        registro.extend([eventos['Código'].iloc[i], eventos['Descrição'].iloc[i], eventos['Provento'].iloc[i], eventos['Desconto'].iloc[i]])\n",
        "        data.loc[len(data)] = registro\n",
        "\n",
        "    start = start + 10\n",
        "\n",
        "  data['Desc_Evento'] = data['Desc_Evento'].apply(html.unescape)\n",
        "\n",
        "  competencia = competencia.replace(' de ', '')\n",
        "  nome_arq = f'{nome_arq}_{competencia}.xlsx'\n",
        "  data.to_excel(nome_arq, index=False)\n",
        "\n",
        "  return data"
      ],
      "metadata": {
        "id": "TTlpD6-fIueU"
      },
      "execution_count": null,
      "outputs": []
    },
    {
      "cell_type": "code",
      "source": [
        "def get_competencia(row):\n",
        "  start = int()\n",
        "  end = int()\n",
        "  index = row.find('2023')\n",
        "\n",
        "  for i in range(index, 0, -1):\n",
        "    if row[i] == '>':\n",
        "      start = i+1\n",
        "      break\n",
        "\n",
        "  for i in range(index, len(row)):\n",
        "    if row[i] == '<':\n",
        "      end = i\n",
        "      break\n",
        "\n",
        "  return row[start:end]"
      ],
      "metadata": {
        "id": "TAdaMnNOaf-V"
      },
      "execution_count": null,
      "outputs": []
    },
    {
      "cell_type": "code",
      "source": [
        "def get_content(row):\n",
        "  start = int()\n",
        "  end = int()\n",
        "  index = row.find('class')\n",
        "\n",
        "  start = row.find('>', index) + 1\n",
        "  end = row.find('<', index)\n",
        "\n",
        "  return row[start:end]"
      ],
      "metadata": {
        "id": "Wut7Op43dPNp"
      },
      "execution_count": null,
      "outputs": []
    },
    {
      "cell_type": "code",
      "source": [
        "def get_eventos(html, start, iterador):\n",
        "  # As linhas que antecedem o começo e fim dos eventos seguem os modelos\n",
        "  # Neste modelo, a classe varia entre f0 até f4, então um laço testa para estes valores\n",
        "  modelo_start = f'<font class=\"f{iterador}\"><b>Cod.</b></font></div>'\n",
        "  modelo_end = f'<font class=\"f{iterador}\">Total de Proventos</font></div>'\n",
        "\n",
        "\n",
        "  start_event = int()\n",
        "  end_event = int()\n",
        "  # Encontra o index do início dos eventos\n",
        "  for i, row in enumerate(html[start:], start=start):\n",
        "    if modelo_start in row:\n",
        "      start_event = i\n",
        "      break\n",
        "  # Encontra o index do fim dos eventos\n",
        "  for i, row in enumerate(html[start:], start):\n",
        "    if modelo_end in row:\n",
        "      end_event = i\n",
        "      break\n",
        "\n",
        "  dados = list()\n",
        "  value = list()\n",
        "  contador = 0\n",
        "\n",
        "  for row in html[start_event+1:end_event]:\n",
        "    if 'class' in row:\n",
        "      if contador < 5:\n",
        "        value.append(get_content(row))\n",
        "        contador += 1\n",
        "      else:\n",
        "        contador = 1\n",
        "        dados.append(value)\n",
        "        value = list()\n",
        "        value.append(get_content(row))\n",
        "  dados.append(value)\n",
        "\n",
        "  df = pd.DataFrame(dados)\n",
        "  df = df[list(df.columns[::-1])]\n",
        "\n",
        "\n",
        "  df.columns = ['Código', 'Descrição', 'Referência', 'Provento', 'Desconto']\n",
        "\n",
        "  return df\n"
      ],
      "metadata": {
        "id": "toaPxRXjnkKc"
      },
      "execution_count": null,
      "outputs": []
    },
    {
      "cell_type": "markdown",
      "source": [
        "## Arquivos xlsx"
      ],
      "metadata": {
        "id": "w4pMLczuTYkh"
      }
    },
    {
      "cell_type": "code",
      "source": [
        "def get_data_from_xlsx(path, competencia, empregador, start, end, indice):\n",
        "  data = pd.DataFrame(columns=['Competência',\t'Empregador',\t'Código_Empregado',\t'Nome_Empregado',\t'Cargo',\t'Lotação',\t'Código_Evento',\t'Desc_Evento',\t'Provento',\t'Desconto'])\n",
        "\n",
        "  columns = ['Numero', 'Nome', 'Jorn.', 'Cargo', 'Admissão', 'SF', 'IR']\n",
        "  nrows = end - start + 2\n",
        "  arq = pd.read_excel(path, skiprows=start, nrows=nrows).fillna('')\n",
        "  arq.columns = columns\n",
        "\n",
        "  nome = str()\n",
        "  codigo = str()\n",
        "  cargo = str()\n",
        "  index = 1\n",
        "  registro = list()\n",
        "\n",
        "  lotacao = arq['Numero'].iloc[0]\n",
        "  # Percorre todos os usuários, o fim dos dados de cada usuários\n",
        "  # é seguido do código do próximo\n",
        "  while arq['Numero'].iloc[index].isnumeric():\n",
        "    eventos = pd.DataFrame(columns=['Código', 'Descrição', 'Provento', 'Desconto'])\n",
        "\n",
        "    codigo = arq['Numero'].iloc[index]\n",
        "    nome = arq['Nome'].iloc[index]\n",
        "    cargo = arq['Cargo'].iloc[index]\n",
        "    # Encontra o começo dos eventos\n",
        "    for i in range(index, nrows):\n",
        "      if arq['Numero'].iloc[i] == 'Eventos':\n",
        "        index = i+1\n",
        "        break\n",
        "\n",
        "    # Este while coleta todos os eventos\n",
        "    # Os eventos são encerrados pela palavra 'Totais'\n",
        "    while arq['Numero'].iloc[index] != 'Totais':\n",
        "      registro = list()\n",
        "      # Codigo evento\n",
        "      registro.append(arq['Numero'].iloc[index])\n",
        "      # Descrição\n",
        "      registro.append(arq['Nome'].iloc[index])\n",
        "      # Provento\n",
        "      registro.append(arq['Admissão'].iloc[index])\n",
        "      # Desconto\n",
        "      registro.append(arq['SF'].iloc[index])\n",
        "\n",
        "      eventos.loc[len(eventos)] = registro\n",
        "      index += 1\n",
        "    index += 1\n",
        "\n",
        "    #Para cada linha de eventos, cria um registro completo\n",
        "    for i in range(eventos.shape[0]):\n",
        "      registro = list()\n",
        "      registro.append(competencia)\n",
        "      registro.append(empregador)\n",
        "      registro.append(codigo)\n",
        "      registro.append(nome)\n",
        "      registro.append(cargo)\n",
        "      registro.append(lotacao)\n",
        "      registro.append(eventos['Código'].iloc[i])\n",
        "      registro.append(eventos['Descrição'].iloc[i])\n",
        "      registro.append(eventos['Provento'].iloc[i])\n",
        "      registro.append(eventos['Desconto'].iloc[i])\n",
        "\n",
        "      data.loc[len(data)] = registro\n",
        "  nome_arq = f'folha_parte_{indice:04}.xlsx'\n",
        "  data.to_excel(nome_arq, index=False)\n",
        "\n",
        "  #return data"
      ],
      "metadata": {
        "id": "eVQgtrxde4qy"
      },
      "execution_count": null,
      "outputs": []
    },
    {
      "cell_type": "code",
      "source": [
        "def fix_cod(cod):\n",
        "  new_cod = f'{cod:04}'\n",
        "  return new_cod"
      ],
      "metadata": {
        "id": "SfpYaWG-Tm9_"
      },
      "execution_count": null,
      "outputs": []
    },
    {
      "cell_type": "markdown",
      "source": [
        "# Leitura dos arquivos"
      ],
      "metadata": {
        "id": "VGFv2tZlIgVq"
      }
    },
    {
      "cell_type": "markdown",
      "source": [
        "## Arquivos html"
      ],
      "metadata": {
        "id": "l4cz3QSTTwba"
      }
    },
    {
      "cell_type": "code",
      "source": [
        "nome_a_salvar = 'GA_'\n",
        "nome_arquivo = '<MES>.html'\n",
        "primeiro_mes = 10\n",
        "ultimo_mes = 11\n",
        "\n",
        "\n",
        "ultimo_mes += 1\n",
        "s = primeiro_mes\n",
        "t = ultimo_mes"
      ],
      "metadata": {
        "id": "-HudR3KocXUH"
      },
      "execution_count": null,
      "outputs": []
    },
    {
      "cell_type": "code",
      "source": [
        "for i in tqdm(range(s, t)):\n",
        "  mes = f'{i:02}'\n",
        "  path = f'/content/drive/My Drive/GA/{nome_arquivo}'.replace('<MES>', mes)\n",
        "  with open(path, 'r') as file:\n",
        "      html = file.read()\n",
        "  html = html.split('\\n')\n",
        "\n",
        "  get_data_from_html(html, nome_a_salvar)"
      ],
      "metadata": {
        "id": "K4Tvmu0QGJZ9",
        "colab": {
          "base_uri": "https://localhost:8080/"
        },
        "outputId": "24f7d937-b372-43eb-db2a-c26b72774ef8"
      },
      "execution_count": null,
      "outputs": [
        {
          "output_type": "stream",
          "name": "stderr",
          "text": [
            "100%|██████████| 2/2 [00:05<00:00,  2.86s/it]\n"
          ]
        }
      ]
    },
    {
      "cell_type": "markdown",
      "source": [
        "### Complementar"
      ],
      "metadata": {
        "id": "ZJ8xJNPixONg"
      }
    },
    {
      "cell_type": "code",
      "source": [
        "# Caso haja complementar\n",
        "mes = '06'\n",
        "path = f'/content/drive/My Drive/HISEG/TCM/062023 COMPLEMENTAR.html'\n",
        "with open(path, 'r') as file:\n",
        "    html = file.read()\n",
        "html = html.split('\\n')\n",
        "\n",
        "get_data(html, 'TCM_COMPLEMENTAR_')"
      ],
      "metadata": {
        "id": "g_XQfuhzrKYE"
      },
      "execution_count": null,
      "outputs": []
    },
    {
      "cell_type": "markdown",
      "source": [
        "## Arquivos xlsx"
      ],
      "metadata": {
        "id": "G9mS8gj4T4FW"
      }
    },
    {
      "cell_type": "code",
      "source": [
        "empregador = '8498 FIBRA TEC'\n",
        "competencia = 'Novembro de 2023'\n",
        "mes = '11'\n",
        "\n",
        "path =f'/content/drive/My Drive/FIBRA/{empregador}/{mes}2023.xls'\n",
        "data = pd.read_excel(path).fillna('')\n",
        "\n",
        "# Define os intervalos de cada Lotação\n",
        "indices = [1]\n",
        "for i in range(data.shape[0]):\n",
        "  if data['Numero'].iloc[i] == 'Totais':\n",
        "    if not data['Numero'].iloc[i+1].isnumeric():\n",
        "      if 'Página de 1 de 1' not in data['Numero'].iloc[i+1]:\n",
        "        indices.append(i+1)\n",
        "indices.append(data.shape[0])\n",
        "empregador = data['Numero'].iloc[0]\n",
        "\n",
        "for i in tqdm(range(len(indices)-1)):\n",
        "  get_data_from_xlsx(path, competencia, empregador, indices[i], indices[i+1], i)"
      ],
      "metadata": {
        "colab": {
          "base_uri": "https://localhost:8080/"
        },
        "id": "Y0c_dO5TR4B2",
        "outputId": "c2d1d39a-47cd-4180-a705-36bc2bd3a4f1"
      },
      "execution_count": 345,
      "outputs": [
        {
          "output_type": "stream",
          "name": "stderr",
          "text": [
            "100%|██████████| 51/51 [00:09<00:00,  5.62it/s]\n"
          ]
        }
      ]
    },
    {
      "cell_type": "code",
      "source": [
        "files = os.listdir()\n",
        "files.sort()\n",
        "df = pd.DataFrame()\n",
        "for file in tqdm(files):\n",
        "  if 'folha_parte_' in file:\n",
        "    df_temp = pd.read_excel(file)\n",
        "    df = pd.concat([df, df_temp], axis=0)\n",
        "\n",
        "df['Código_Evento'] = df['Código_Evento'].apply(fix_cod)\n",
        "nome_arq = f'Folha_FIBRA{empregador.split()[0]}_{competencia.split()[0]}.xlsx'\n",
        "df.to_excel(nome_arq, index=False)"
      ],
      "metadata": {
        "id": "ZwdVSZO7UB0O"
      },
      "execution_count": null,
      "outputs": []
    },
    {
      "cell_type": "markdown",
      "source": [
        "# Junta Planilhas"
      ],
      "metadata": {
        "id": "EMTm5MaolpbH"
      }
    },
    {
      "cell_type": "markdown",
      "source": [
        "Concatena planilhas agrupadas por mês\n",
        "e no final cria planilhas com os valores únicos das colunas\n",
        "['Empregador', 'Código_Empregado', 'Nome_Empregado', 'Cargo', 'Lotação']\n",
        "agrupados por mês também"
      ],
      "metadata": {
        "id": "NpKXTRrg9GjG"
      }
    },
    {
      "cell_type": "code",
      "source": [
        "#diretorio = '/content/drive/My Drive/FolhasPagamento'\n",
        "#files = os.listdir(diretorio)\n",
        "\n",
        "nome_empresa = 'GA'\n",
        "files = os.listdir()\n",
        "\n",
        "ano = '2023'\n",
        "meses = ['Janeiro', 'Fevereiro', 'Março', 'Abril', 'Maio', 'Junho', 'Julho', 'Agosto', 'Setembro', 'Outubro', 'Novembro']\n",
        "meses = ['Outubro', 'Novembro']\n",
        "meses = [f'{mes}{ano}' for mes in meses]\n",
        "\n",
        "colunas = ['Empregador', 'Código_Empregado', 'Nome_Empregado', 'Cargo', 'Lotação']\n",
        "\n",
        "for mes in tqdm(meses):\n",
        "  arquivos = list()\n",
        "  df_mensal = pd.DataFrame()\n",
        "\n",
        "  for file in files:\n",
        "    if mes in file:\n",
        "      arquivos.append(file)\n",
        "      #arquivos.append(f'{diretorio}/{file}')\n",
        "\n",
        "  for arq in arquivos:\n",
        "    df = pd.read_excel(arq)\n",
        "    df_mensal = pd.concat([df_mensal, df], axis=0)\n",
        "\n",
        "  # Coleta os registros únicos das colunas desejadas\n",
        "  for coluna in colunas:\n",
        "\n",
        "    unique_values = df_mensal[coluna].unique()\n",
        "    unique_values = pd.DataFrame(unique_values)\n",
        "    unique_values.to_excel(f'{coluna}_unicos_{mes[:3]}.xlsx', index=False)\n",
        "\n",
        "  df_mensal.to_excel(f'{nome_empresa}_{mes}.xlsx', index=False)\n"
      ],
      "metadata": {
        "colab": {
          "base_uri": "https://localhost:8080/"
        },
        "id": "jHl6eRdKlslz",
        "outputId": "291eaba4-78e1-4aeb-a1d8-f5dea7c3a840"
      },
      "execution_count": null,
      "outputs": [
        {
          "output_type": "stream",
          "name": "stderr",
          "text": [
            "100%|██████████| 2/2 [00:00<00:00,  2.22it/s]\n"
          ]
        }
      ]
    },
    {
      "cell_type": "code",
      "source": [
        "# Junta de grupos diferentes\n",
        "\n",
        "diretorio = '/content/drive/My Drive/Registros Acumulados Totais/Janeiro/'\n",
        "files = os.listdir(diretorio)\n",
        "\n",
        "df = pd.DataFrame()\n",
        "\n",
        "for file in tqdm(files):\n",
        "  df_temp = pd.read_excel(diretorio+file)\n",
        "  df = pd.concat([df, df_temp], axis=0)\n",
        "\n",
        "df.to_excel('Registros_acumulados_Janeiro.xlsx', index=False)"
      ],
      "metadata": {
        "id": "4YS4s7koymA1"
      },
      "execution_count": null,
      "outputs": []
    },
    {
      "cell_type": "markdown",
      "source": [
        "# Limpa arquivos desnecessários"
      ],
      "metadata": {
        "id": "fq_A99EqR4zB"
      }
    },
    {
      "cell_type": "code",
      "source": [
        "def clean():\n",
        "  for file in os.listdir():\n",
        "    if '.xlsx' in file or '.html' in file:\n",
        "      os.remove(file)"
      ],
      "metadata": {
        "id": "LmLLg95O9K-J"
      },
      "execution_count": 365,
      "outputs": []
    }
  ]
}